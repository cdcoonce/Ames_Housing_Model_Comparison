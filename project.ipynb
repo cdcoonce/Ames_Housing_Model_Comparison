{
 "cells": [
  {
   "cell_type": "markdown",
   "id": "6919de9b",
   "metadata": {},
   "source": [
    "## DAT 402 - Project 2: Ames Housing Dataset - Baselines vs. Neural Network\n"
   ]
  },
  {
   "cell_type": "markdown",
   "id": "16c7832c",
   "metadata": {},
   "source": [
    "**Author:** Charles Coonce  \n",
    "**Course:** DAT 402  \n",
    "**Date:** 2025-10-11\n",
    "\n",
    "**Goal:** Use linear regression and a kNN baseline on Ames Housing data; demonstrate bias–variance and cross-validation; Use a Neural Network to improve predictive modeling; export HTML.  \n",
    "**Deliverables:** `.ipynb` + `.html` + dataset file used.\n",
    "\n",
    "**Introduction**:\n",
    "The Ames Housing dataset provides detailed information on residential homes in Ames, Iowa. \n",
    "It is widely used for regression tasks because of its rich mix of numerical and categorical \n",
    "features, along with a clear target variable, the sale price of each house. \n",
    "\n",
    "In this project, the goal is to build and compare three models: **Linear Regression**, \n",
    "**k-nearest neighbors (kNN)**, and a **Neural Network** . Linear Regression serves as a simple baseline with high \n",
    "bias and low variance, while kNN provides a flexible model where the complexity is controlled \n",
    "by the number of neighbors, *k*. Finally, a Neural Network is built to improve the model.\n",
    "\n",
    "To simplify the dataset, I selected features based on correlation with SalePrice and created \n",
    "a few engineered features such as **TotalSF**, **TotalBath**, **AgeAtSale**, and \n",
    "**RemodelAge**. This provided a focused set of predictors that still capture the main drivers \n",
    "of housing prices. Finally, the project demonstrates the **bias–variance tradeoff** through kNN by showing how small values of k overfit the training data and large values underfit the data, with an intermediate range giving the best performance. The use of **cross-validation** further supports this analysis by providing consistent error estimates across folds, confirming that the observed differences between Linear Regression and kNN are robust and not due to a single train/test split. The neural network expanded on linear regression by introducing nonlinear hidden layers capable of capturing complex interactions between features that a purely linear model cannot represent. By training on the same preprocessed data and using the same evaluation metrics, the neural network serves as a natural next step in model complexity, bridging the gap between simple parametric methods and more flexible, data-driven approaches. This allows for a direct comparison of how each model balances bias and variance and how increasing model flexibility impacts predictive performance on the Ames Housing dataset.\n",
    "\n",
    "**About Ames Housing Dataset**:\n",
    "- Number of Instances: The dataset consists of 2,930 instances or observations.\n",
    "- Number of Features: There are 79 different features or variables that describe various aspects of the residential properties.\n",
    "- Target Variable: The target variable in the dataset is the \"SalePrice,\" representing the sale price of the houses.\n",
    "- Data Types: The features include both numerical and categorical variables, covering a wide range of aspects such as lot size, number of rooms, location, construction, and more.\n",
    "\n",
    "**Data Obtained At**: [Kaggle: Ames Housing Dataset](https://www.kaggle.com/datasets/shashanknecrothapa/ames-housing-dataset)\n",
    "\n",
    "**Reference**: “Ames Housing Dataset.” www.kaggle.com, www.kaggle.com/datasets/shashanknecrothapa/ames-housing-dataset."
   ]
  },
  {
   "cell_type": "markdown",
   "id": "a3b40f9d",
   "metadata": {},
   "source": [
    "## Imports"
   ]
  },
  {
   "cell_type": "code",
   "execution_count": 476,
   "id": "0725df58",
   "metadata": {},
   "outputs": [],
   "source": [
    "import numpy as np\n",
    "import random\n",
    "import pandas as pd\n",
    "import matplotlib.pyplot as plt\n",
    "\n",
    "# Model selection and metrics\n",
    "from sklearn.model_selection import train_test_split, KFold, cross_val_score\n",
    "from sklearn.metrics import root_mean_squared_error, mean_absolute_error, make_scorer, r2_score\n",
    "\n",
    "# Preprocessing\n",
    "from sklearn.preprocessing import StandardScaler, OneHotEncoder\n",
    "from sklearn.compose import ColumnTransformer\n",
    "from sklearn.pipeline import Pipeline\n",
    "from sklearn.impute import SimpleImputer\n",
    "\n",
    "# Baselines\n",
    "from sklearn.linear_model import LinearRegression\n",
    "from sklearn.neighbors import KNeighborsRegressor\n",
    "\n",
    "# Neural Network\n",
    "\n",
    "import tensorflow as tf\n",
    "from tensorflow import keras\n",
    "from tensorflow.keras import layers\n",
    "\n",
    "\n",
    "RANDOM_STATE = 2025 ## For reproducibility"
   ]
  },
  {
   "cell_type": "markdown",
   "id": "0b064fa0",
   "metadata": {},
   "source": [
    "## Dataset Preparation"
   ]
  },
  {
   "cell_type": "markdown",
   "id": "5606a32a",
   "metadata": {},
   "source": [
    "First we must read in and explore the data to understand the size of the dataset and what features are available for modeling."
   ]
  },
  {
   "cell_type": "code",
   "execution_count": 477,
   "id": "7ef02d4c",
   "metadata": {},
   "outputs": [
    {
     "name": "stdout",
     "output_type": "stream",
     "text": [
      "(2930, 82)\n"
     ]
    },
    {
     "data": {
      "application/vnd.microsoft.datawrangler.viewer.v0+json": {
       "columns": [
        {
         "name": "index",
         "rawType": "int64",
         "type": "integer"
        },
        {
         "name": "Order",
         "rawType": "int64",
         "type": "integer"
        },
        {
         "name": "PID",
         "rawType": "int64",
         "type": "integer"
        },
        {
         "name": "MS SubClass",
         "rawType": "int64",
         "type": "integer"
        },
        {
         "name": "MS Zoning",
         "rawType": "object",
         "type": "string"
        },
        {
         "name": "Lot Frontage",
         "rawType": "float64",
         "type": "float"
        },
        {
         "name": "Lot Area",
         "rawType": "int64",
         "type": "integer"
        },
        {
         "name": "Street",
         "rawType": "object",
         "type": "string"
        },
        {
         "name": "Alley",
         "rawType": "object",
         "type": "unknown"
        },
        {
         "name": "Lot Shape",
         "rawType": "object",
         "type": "string"
        },
        {
         "name": "Land Contour",
         "rawType": "object",
         "type": "string"
        },
        {
         "name": "Utilities",
         "rawType": "object",
         "type": "string"
        },
        {
         "name": "Lot Config",
         "rawType": "object",
         "type": "string"
        },
        {
         "name": "Land Slope",
         "rawType": "object",
         "type": "string"
        },
        {
         "name": "Neighborhood",
         "rawType": "object",
         "type": "string"
        },
        {
         "name": "Condition 1",
         "rawType": "object",
         "type": "string"
        },
        {
         "name": "Condition 2",
         "rawType": "object",
         "type": "string"
        },
        {
         "name": "Bldg Type",
         "rawType": "object",
         "type": "string"
        },
        {
         "name": "House Style",
         "rawType": "object",
         "type": "string"
        },
        {
         "name": "Overall Qual",
         "rawType": "int64",
         "type": "integer"
        },
        {
         "name": "Overall Cond",
         "rawType": "int64",
         "type": "integer"
        },
        {
         "name": "Year Built",
         "rawType": "int64",
         "type": "integer"
        },
        {
         "name": "Year Remod/Add",
         "rawType": "int64",
         "type": "integer"
        },
        {
         "name": "Roof Style",
         "rawType": "object",
         "type": "string"
        },
        {
         "name": "Roof Matl",
         "rawType": "object",
         "type": "string"
        },
        {
         "name": "Exterior 1st",
         "rawType": "object",
         "type": "string"
        },
        {
         "name": "Exterior 2nd",
         "rawType": "object",
         "type": "string"
        },
        {
         "name": "Mas Vnr Type",
         "rawType": "object",
         "type": "unknown"
        },
        {
         "name": "Mas Vnr Area",
         "rawType": "float64",
         "type": "float"
        },
        {
         "name": "Exter Qual",
         "rawType": "object",
         "type": "string"
        },
        {
         "name": "Exter Cond",
         "rawType": "object",
         "type": "string"
        },
        {
         "name": "Foundation",
         "rawType": "object",
         "type": "string"
        },
        {
         "name": "Bsmt Qual",
         "rawType": "object",
         "type": "string"
        },
        {
         "name": "Bsmt Cond",
         "rawType": "object",
         "type": "string"
        },
        {
         "name": "Bsmt Exposure",
         "rawType": "object",
         "type": "string"
        },
        {
         "name": "BsmtFin Type 1",
         "rawType": "object",
         "type": "string"
        },
        {
         "name": "BsmtFin SF 1",
         "rawType": "float64",
         "type": "float"
        },
        {
         "name": "BsmtFin Type 2",
         "rawType": "object",
         "type": "string"
        },
        {
         "name": "BsmtFin SF 2",
         "rawType": "float64",
         "type": "float"
        },
        {
         "name": "Bsmt Unf SF",
         "rawType": "float64",
         "type": "float"
        },
        {
         "name": "Total Bsmt SF",
         "rawType": "float64",
         "type": "float"
        },
        {
         "name": "Heating",
         "rawType": "object",
         "type": "string"
        },
        {
         "name": "Heating QC",
         "rawType": "object",
         "type": "string"
        },
        {
         "name": "Central Air",
         "rawType": "object",
         "type": "string"
        },
        {
         "name": "Electrical",
         "rawType": "object",
         "type": "string"
        },
        {
         "name": "1st Flr SF",
         "rawType": "int64",
         "type": "integer"
        },
        {
         "name": "2nd Flr SF",
         "rawType": "int64",
         "type": "integer"
        },
        {
         "name": "Low Qual Fin SF",
         "rawType": "int64",
         "type": "integer"
        },
        {
         "name": "Gr Liv Area",
         "rawType": "int64",
         "type": "integer"
        },
        {
         "name": "Bsmt Full Bath",
         "rawType": "float64",
         "type": "float"
        },
        {
         "name": "Bsmt Half Bath",
         "rawType": "float64",
         "type": "float"
        },
        {
         "name": "Full Bath",
         "rawType": "int64",
         "type": "integer"
        },
        {
         "name": "Half Bath",
         "rawType": "int64",
         "type": "integer"
        },
        {
         "name": "Bedroom AbvGr",
         "rawType": "int64",
         "type": "integer"
        },
        {
         "name": "Kitchen AbvGr",
         "rawType": "int64",
         "type": "integer"
        },
        {
         "name": "Kitchen Qual",
         "rawType": "object",
         "type": "string"
        },
        {
         "name": "TotRms AbvGrd",
         "rawType": "int64",
         "type": "integer"
        },
        {
         "name": "Functional",
         "rawType": "object",
         "type": "string"
        },
        {
         "name": "Fireplaces",
         "rawType": "int64",
         "type": "integer"
        },
        {
         "name": "Fireplace Qu",
         "rawType": "object",
         "type": "unknown"
        },
        {
         "name": "Garage Type",
         "rawType": "object",
         "type": "string"
        },
        {
         "name": "Garage Yr Blt",
         "rawType": "float64",
         "type": "float"
        },
        {
         "name": "Garage Finish",
         "rawType": "object",
         "type": "string"
        },
        {
         "name": "Garage Cars",
         "rawType": "float64",
         "type": "float"
        },
        {
         "name": "Garage Area",
         "rawType": "float64",
         "type": "float"
        },
        {
         "name": "Garage Qual",
         "rawType": "object",
         "type": "string"
        },
        {
         "name": "Garage Cond",
         "rawType": "object",
         "type": "string"
        },
        {
         "name": "Paved Drive",
         "rawType": "object",
         "type": "string"
        },
        {
         "name": "Wood Deck SF",
         "rawType": "int64",
         "type": "integer"
        },
        {
         "name": "Open Porch SF",
         "rawType": "int64",
         "type": "integer"
        },
        {
         "name": "Enclosed Porch",
         "rawType": "int64",
         "type": "integer"
        },
        {
         "name": "3Ssn Porch",
         "rawType": "int64",
         "type": "integer"
        },
        {
         "name": "Screen Porch",
         "rawType": "int64",
         "type": "integer"
        },
        {
         "name": "Pool Area",
         "rawType": "int64",
         "type": "integer"
        },
        {
         "name": "Pool QC",
         "rawType": "object",
         "type": "unknown"
        },
        {
         "name": "Fence",
         "rawType": "object",
         "type": "unknown"
        },
        {
         "name": "Misc Feature",
         "rawType": "object",
         "type": "unknown"
        },
        {
         "name": "Misc Val",
         "rawType": "int64",
         "type": "integer"
        },
        {
         "name": "Mo Sold",
         "rawType": "int64",
         "type": "integer"
        },
        {
         "name": "Yr Sold",
         "rawType": "int64",
         "type": "integer"
        },
        {
         "name": "Sale Type",
         "rawType": "object",
         "type": "string"
        },
        {
         "name": "Sale Condition",
         "rawType": "object",
         "type": "string"
        },
        {
         "name": "SalePrice",
         "rawType": "int64",
         "type": "integer"
        }
       ],
       "ref": "44a77802-4e70-4ee7-a37f-845f07d476ba",
       "rows": [
        [
         "0",
         "1",
         "526301100",
         "20",
         "RL",
         "141.0",
         "31770",
         "Pave",
         null,
         "IR1",
         "Lvl",
         "AllPub",
         "Corner",
         "Gtl",
         "NAmes",
         "Norm",
         "Norm",
         "1Fam",
         "1Story",
         "6",
         "5",
         "1960",
         "1960",
         "Hip",
         "CompShg",
         "BrkFace",
         "Plywood",
         "Stone",
         "112.0",
         "TA",
         "TA",
         "CBlock",
         "TA",
         "Gd",
         "Gd",
         "BLQ",
         "639.0",
         "Unf",
         "0.0",
         "441.0",
         "1080.0",
         "GasA",
         "Fa",
         "Y",
         "SBrkr",
         "1656",
         "0",
         "0",
         "1656",
         "1.0",
         "0.0",
         "1",
         "0",
         "3",
         "1",
         "TA",
         "7",
         "Typ",
         "2",
         "Gd",
         "Attchd",
         "1960.0",
         "Fin",
         "2.0",
         "528.0",
         "TA",
         "TA",
         "P",
         "210",
         "62",
         "0",
         "0",
         "0",
         "0",
         null,
         null,
         null,
         "0",
         "5",
         "2010",
         "WD ",
         "Normal",
         "215000"
        ],
        [
         "1",
         "2",
         "526350040",
         "20",
         "RH",
         "80.0",
         "11622",
         "Pave",
         null,
         "Reg",
         "Lvl",
         "AllPub",
         "Inside",
         "Gtl",
         "NAmes",
         "Feedr",
         "Norm",
         "1Fam",
         "1Story",
         "5",
         "6",
         "1961",
         "1961",
         "Gable",
         "CompShg",
         "VinylSd",
         "VinylSd",
         null,
         "0.0",
         "TA",
         "TA",
         "CBlock",
         "TA",
         "TA",
         "No",
         "Rec",
         "468.0",
         "LwQ",
         "144.0",
         "270.0",
         "882.0",
         "GasA",
         "TA",
         "Y",
         "SBrkr",
         "896",
         "0",
         "0",
         "896",
         "0.0",
         "0.0",
         "1",
         "0",
         "2",
         "1",
         "TA",
         "5",
         "Typ",
         "0",
         null,
         "Attchd",
         "1961.0",
         "Unf",
         "1.0",
         "730.0",
         "TA",
         "TA",
         "Y",
         "140",
         "0",
         "0",
         "0",
         "120",
         "0",
         null,
         "MnPrv",
         null,
         "0",
         "6",
         "2010",
         "WD ",
         "Normal",
         "105000"
        ],
        [
         "2",
         "3",
         "526351010",
         "20",
         "RL",
         "81.0",
         "14267",
         "Pave",
         null,
         "IR1",
         "Lvl",
         "AllPub",
         "Corner",
         "Gtl",
         "NAmes",
         "Norm",
         "Norm",
         "1Fam",
         "1Story",
         "6",
         "6",
         "1958",
         "1958",
         "Hip",
         "CompShg",
         "Wd Sdng",
         "Wd Sdng",
         "BrkFace",
         "108.0",
         "TA",
         "TA",
         "CBlock",
         "TA",
         "TA",
         "No",
         "ALQ",
         "923.0",
         "Unf",
         "0.0",
         "406.0",
         "1329.0",
         "GasA",
         "TA",
         "Y",
         "SBrkr",
         "1329",
         "0",
         "0",
         "1329",
         "0.0",
         "0.0",
         "1",
         "1",
         "3",
         "1",
         "Gd",
         "6",
         "Typ",
         "0",
         null,
         "Attchd",
         "1958.0",
         "Unf",
         "1.0",
         "312.0",
         "TA",
         "TA",
         "Y",
         "393",
         "36",
         "0",
         "0",
         "0",
         "0",
         null,
         null,
         "Gar2",
         "12500",
         "6",
         "2010",
         "WD ",
         "Normal",
         "172000"
        ],
        [
         "3",
         "4",
         "526353030",
         "20",
         "RL",
         "93.0",
         "11160",
         "Pave",
         null,
         "Reg",
         "Lvl",
         "AllPub",
         "Corner",
         "Gtl",
         "NAmes",
         "Norm",
         "Norm",
         "1Fam",
         "1Story",
         "7",
         "5",
         "1968",
         "1968",
         "Hip",
         "CompShg",
         "BrkFace",
         "BrkFace",
         null,
         "0.0",
         "Gd",
         "TA",
         "CBlock",
         "TA",
         "TA",
         "No",
         "ALQ",
         "1065.0",
         "Unf",
         "0.0",
         "1045.0",
         "2110.0",
         "GasA",
         "Ex",
         "Y",
         "SBrkr",
         "2110",
         "0",
         "0",
         "2110",
         "1.0",
         "0.0",
         "2",
         "1",
         "3",
         "1",
         "Ex",
         "8",
         "Typ",
         "2",
         "TA",
         "Attchd",
         "1968.0",
         "Fin",
         "2.0",
         "522.0",
         "TA",
         "TA",
         "Y",
         "0",
         "0",
         "0",
         "0",
         "0",
         "0",
         null,
         null,
         null,
         "0",
         "4",
         "2010",
         "WD ",
         "Normal",
         "244000"
        ],
        [
         "4",
         "5",
         "527105010",
         "60",
         "RL",
         "74.0",
         "13830",
         "Pave",
         null,
         "IR1",
         "Lvl",
         "AllPub",
         "Inside",
         "Gtl",
         "Gilbert",
         "Norm",
         "Norm",
         "1Fam",
         "2Story",
         "5",
         "5",
         "1997",
         "1998",
         "Gable",
         "CompShg",
         "VinylSd",
         "VinylSd",
         null,
         "0.0",
         "TA",
         "TA",
         "PConc",
         "Gd",
         "TA",
         "No",
         "GLQ",
         "791.0",
         "Unf",
         "0.0",
         "137.0",
         "928.0",
         "GasA",
         "Gd",
         "Y",
         "SBrkr",
         "928",
         "701",
         "0",
         "1629",
         "0.0",
         "0.0",
         "2",
         "1",
         "3",
         "1",
         "TA",
         "6",
         "Typ",
         "1",
         "TA",
         "Attchd",
         "1997.0",
         "Fin",
         "2.0",
         "482.0",
         "TA",
         "TA",
         "Y",
         "212",
         "34",
         "0",
         "0",
         "0",
         "0",
         null,
         "MnPrv",
         null,
         "0",
         "3",
         "2010",
         "WD ",
         "Normal",
         "189900"
        ]
       ],
       "shape": {
        "columns": 82,
        "rows": 5
       }
      },
      "text/html": [
       "<div>\n",
       "<style scoped>\n",
       "    .dataframe tbody tr th:only-of-type {\n",
       "        vertical-align: middle;\n",
       "    }\n",
       "\n",
       "    .dataframe tbody tr th {\n",
       "        vertical-align: top;\n",
       "    }\n",
       "\n",
       "    .dataframe thead th {\n",
       "        text-align: right;\n",
       "    }\n",
       "</style>\n",
       "<table border=\"1\" class=\"dataframe\">\n",
       "  <thead>\n",
       "    <tr style=\"text-align: right;\">\n",
       "      <th></th>\n",
       "      <th>Order</th>\n",
       "      <th>PID</th>\n",
       "      <th>MS SubClass</th>\n",
       "      <th>MS Zoning</th>\n",
       "      <th>Lot Frontage</th>\n",
       "      <th>Lot Area</th>\n",
       "      <th>Street</th>\n",
       "      <th>Alley</th>\n",
       "      <th>Lot Shape</th>\n",
       "      <th>Land Contour</th>\n",
       "      <th>...</th>\n",
       "      <th>Pool Area</th>\n",
       "      <th>Pool QC</th>\n",
       "      <th>Fence</th>\n",
       "      <th>Misc Feature</th>\n",
       "      <th>Misc Val</th>\n",
       "      <th>Mo Sold</th>\n",
       "      <th>Yr Sold</th>\n",
       "      <th>Sale Type</th>\n",
       "      <th>Sale Condition</th>\n",
       "      <th>SalePrice</th>\n",
       "    </tr>\n",
       "  </thead>\n",
       "  <tbody>\n",
       "    <tr>\n",
       "      <th>0</th>\n",
       "      <td>1</td>\n",
       "      <td>526301100</td>\n",
       "      <td>20</td>\n",
       "      <td>RL</td>\n",
       "      <td>141.0</td>\n",
       "      <td>31770</td>\n",
       "      <td>Pave</td>\n",
       "      <td>NaN</td>\n",
       "      <td>IR1</td>\n",
       "      <td>Lvl</td>\n",
       "      <td>...</td>\n",
       "      <td>0</td>\n",
       "      <td>NaN</td>\n",
       "      <td>NaN</td>\n",
       "      <td>NaN</td>\n",
       "      <td>0</td>\n",
       "      <td>5</td>\n",
       "      <td>2010</td>\n",
       "      <td>WD</td>\n",
       "      <td>Normal</td>\n",
       "      <td>215000</td>\n",
       "    </tr>\n",
       "    <tr>\n",
       "      <th>1</th>\n",
       "      <td>2</td>\n",
       "      <td>526350040</td>\n",
       "      <td>20</td>\n",
       "      <td>RH</td>\n",
       "      <td>80.0</td>\n",
       "      <td>11622</td>\n",
       "      <td>Pave</td>\n",
       "      <td>NaN</td>\n",
       "      <td>Reg</td>\n",
       "      <td>Lvl</td>\n",
       "      <td>...</td>\n",
       "      <td>0</td>\n",
       "      <td>NaN</td>\n",
       "      <td>MnPrv</td>\n",
       "      <td>NaN</td>\n",
       "      <td>0</td>\n",
       "      <td>6</td>\n",
       "      <td>2010</td>\n",
       "      <td>WD</td>\n",
       "      <td>Normal</td>\n",
       "      <td>105000</td>\n",
       "    </tr>\n",
       "    <tr>\n",
       "      <th>2</th>\n",
       "      <td>3</td>\n",
       "      <td>526351010</td>\n",
       "      <td>20</td>\n",
       "      <td>RL</td>\n",
       "      <td>81.0</td>\n",
       "      <td>14267</td>\n",
       "      <td>Pave</td>\n",
       "      <td>NaN</td>\n",
       "      <td>IR1</td>\n",
       "      <td>Lvl</td>\n",
       "      <td>...</td>\n",
       "      <td>0</td>\n",
       "      <td>NaN</td>\n",
       "      <td>NaN</td>\n",
       "      <td>Gar2</td>\n",
       "      <td>12500</td>\n",
       "      <td>6</td>\n",
       "      <td>2010</td>\n",
       "      <td>WD</td>\n",
       "      <td>Normal</td>\n",
       "      <td>172000</td>\n",
       "    </tr>\n",
       "    <tr>\n",
       "      <th>3</th>\n",
       "      <td>4</td>\n",
       "      <td>526353030</td>\n",
       "      <td>20</td>\n",
       "      <td>RL</td>\n",
       "      <td>93.0</td>\n",
       "      <td>11160</td>\n",
       "      <td>Pave</td>\n",
       "      <td>NaN</td>\n",
       "      <td>Reg</td>\n",
       "      <td>Lvl</td>\n",
       "      <td>...</td>\n",
       "      <td>0</td>\n",
       "      <td>NaN</td>\n",
       "      <td>NaN</td>\n",
       "      <td>NaN</td>\n",
       "      <td>0</td>\n",
       "      <td>4</td>\n",
       "      <td>2010</td>\n",
       "      <td>WD</td>\n",
       "      <td>Normal</td>\n",
       "      <td>244000</td>\n",
       "    </tr>\n",
       "    <tr>\n",
       "      <th>4</th>\n",
       "      <td>5</td>\n",
       "      <td>527105010</td>\n",
       "      <td>60</td>\n",
       "      <td>RL</td>\n",
       "      <td>74.0</td>\n",
       "      <td>13830</td>\n",
       "      <td>Pave</td>\n",
       "      <td>NaN</td>\n",
       "      <td>IR1</td>\n",
       "      <td>Lvl</td>\n",
       "      <td>...</td>\n",
       "      <td>0</td>\n",
       "      <td>NaN</td>\n",
       "      <td>MnPrv</td>\n",
       "      <td>NaN</td>\n",
       "      <td>0</td>\n",
       "      <td>3</td>\n",
       "      <td>2010</td>\n",
       "      <td>WD</td>\n",
       "      <td>Normal</td>\n",
       "      <td>189900</td>\n",
       "    </tr>\n",
       "  </tbody>\n",
       "</table>\n",
       "<p>5 rows × 82 columns</p>\n",
       "</div>"
      ],
      "text/plain": [
       "   Order        PID  MS SubClass MS Zoning  Lot Frontage  Lot Area Street  \\\n",
       "0      1  526301100           20        RL         141.0     31770   Pave   \n",
       "1      2  526350040           20        RH          80.0     11622   Pave   \n",
       "2      3  526351010           20        RL          81.0     14267   Pave   \n",
       "3      4  526353030           20        RL          93.0     11160   Pave   \n",
       "4      5  527105010           60        RL          74.0     13830   Pave   \n",
       "\n",
       "  Alley Lot Shape Land Contour  ... Pool Area Pool QC  Fence Misc Feature  \\\n",
       "0   NaN       IR1          Lvl  ...         0     NaN    NaN          NaN   \n",
       "1   NaN       Reg          Lvl  ...         0     NaN  MnPrv          NaN   \n",
       "2   NaN       IR1          Lvl  ...         0     NaN    NaN         Gar2   \n",
       "3   NaN       Reg          Lvl  ...         0     NaN    NaN          NaN   \n",
       "4   NaN       IR1          Lvl  ...         0     NaN  MnPrv          NaN   \n",
       "\n",
       "  Misc Val Mo Sold Yr Sold Sale Type  Sale Condition  SalePrice  \n",
       "0        0       5    2010       WD           Normal     215000  \n",
       "1        0       6    2010       WD           Normal     105000  \n",
       "2    12500       6    2010       WD           Normal     172000  \n",
       "3        0       4    2010       WD           Normal     244000  \n",
       "4        0       3    2010       WD           Normal     189900  \n",
       "\n",
       "[5 rows x 82 columns]"
      ]
     },
     "execution_count": 477,
     "metadata": {},
     "output_type": "execute_result"
    }
   ],
   "source": [
    "df = pd.read_csv(\"AmesHousing.csv\")\n",
    "print(df.shape)\n",
    "df.head()"
   ]
  },
  {
   "cell_type": "code",
   "execution_count": 478,
   "id": "2ab70d40",
   "metadata": {},
   "outputs": [
    {
     "data": {
      "application/vnd.microsoft.datawrangler.viewer.v0+json": {
       "columns": [
        {
         "name": "index",
         "rawType": "object",
         "type": "string"
        },
        {
         "name": "Order",
         "rawType": "float64",
         "type": "float"
        },
        {
         "name": "PID",
         "rawType": "float64",
         "type": "float"
        },
        {
         "name": "MS SubClass",
         "rawType": "float64",
         "type": "float"
        },
        {
         "name": "Lot Frontage",
         "rawType": "float64",
         "type": "float"
        },
        {
         "name": "Lot Area",
         "rawType": "float64",
         "type": "float"
        },
        {
         "name": "Overall Qual",
         "rawType": "float64",
         "type": "float"
        },
        {
         "name": "Overall Cond",
         "rawType": "float64",
         "type": "float"
        },
        {
         "name": "Year Built",
         "rawType": "float64",
         "type": "float"
        },
        {
         "name": "Year Remod/Add",
         "rawType": "float64",
         "type": "float"
        },
        {
         "name": "Mas Vnr Area",
         "rawType": "float64",
         "type": "float"
        },
        {
         "name": "BsmtFin SF 1",
         "rawType": "float64",
         "type": "float"
        },
        {
         "name": "BsmtFin SF 2",
         "rawType": "float64",
         "type": "float"
        },
        {
         "name": "Bsmt Unf SF",
         "rawType": "float64",
         "type": "float"
        },
        {
         "name": "Total Bsmt SF",
         "rawType": "float64",
         "type": "float"
        },
        {
         "name": "1st Flr SF",
         "rawType": "float64",
         "type": "float"
        },
        {
         "name": "2nd Flr SF",
         "rawType": "float64",
         "type": "float"
        },
        {
         "name": "Low Qual Fin SF",
         "rawType": "float64",
         "type": "float"
        },
        {
         "name": "Gr Liv Area",
         "rawType": "float64",
         "type": "float"
        },
        {
         "name": "Bsmt Full Bath",
         "rawType": "float64",
         "type": "float"
        },
        {
         "name": "Bsmt Half Bath",
         "rawType": "float64",
         "type": "float"
        },
        {
         "name": "Full Bath",
         "rawType": "float64",
         "type": "float"
        },
        {
         "name": "Half Bath",
         "rawType": "float64",
         "type": "float"
        },
        {
         "name": "Bedroom AbvGr",
         "rawType": "float64",
         "type": "float"
        },
        {
         "name": "Kitchen AbvGr",
         "rawType": "float64",
         "type": "float"
        },
        {
         "name": "TotRms AbvGrd",
         "rawType": "float64",
         "type": "float"
        },
        {
         "name": "Fireplaces",
         "rawType": "float64",
         "type": "float"
        },
        {
         "name": "Garage Yr Blt",
         "rawType": "float64",
         "type": "float"
        },
        {
         "name": "Garage Cars",
         "rawType": "float64",
         "type": "float"
        },
        {
         "name": "Garage Area",
         "rawType": "float64",
         "type": "float"
        },
        {
         "name": "Wood Deck SF",
         "rawType": "float64",
         "type": "float"
        },
        {
         "name": "Open Porch SF",
         "rawType": "float64",
         "type": "float"
        },
        {
         "name": "Enclosed Porch",
         "rawType": "float64",
         "type": "float"
        },
        {
         "name": "3Ssn Porch",
         "rawType": "float64",
         "type": "float"
        },
        {
         "name": "Screen Porch",
         "rawType": "float64",
         "type": "float"
        },
        {
         "name": "Pool Area",
         "rawType": "float64",
         "type": "float"
        },
        {
         "name": "Misc Val",
         "rawType": "float64",
         "type": "float"
        },
        {
         "name": "Mo Sold",
         "rawType": "float64",
         "type": "float"
        },
        {
         "name": "Yr Sold",
         "rawType": "float64",
         "type": "float"
        },
        {
         "name": "SalePrice",
         "rawType": "float64",
         "type": "float"
        }
       ],
       "ref": "8855b93b-0a8b-4b49-8208-df19a9aedfa9",
       "rows": [
        [
         "count",
         "2930.0",
         "2930.0",
         "2930.0",
         "2440.0",
         "2930.0",
         "2930.0",
         "2930.0",
         "2930.0",
         "2930.0",
         "2907.0",
         "2929.0",
         "2929.0",
         "2929.0",
         "2929.0",
         "2930.0",
         "2930.0",
         "2930.0",
         "2930.0",
         "2928.0",
         "2928.0",
         "2930.0",
         "2930.0",
         "2930.0",
         "2930.0",
         "2930.0",
         "2930.0",
         "2771.0",
         "2929.0",
         "2929.0",
         "2930.0",
         "2930.0",
         "2930.0",
         "2930.0",
         "2930.0",
         "2930.0",
         "2930.0",
         "2930.0",
         "2930.0",
         "2930.0"
        ],
        [
         "mean",
         "1465.5",
         "714464496.9887372",
         "57.38737201365188",
         "69.22459016393442",
         "10147.921843003413",
         "6.0948805460750854",
         "5.563139931740614",
         "1971.3563139931741",
         "1984.266552901024",
         "101.8968008255934",
         "442.6295664049164",
         "49.72243086377603",
         "559.2625469443497",
         "1051.6145442130419",
         "1159.5576791808874",
         "335.45597269624574",
         "4.67679180887372",
         "1499.6904436860068",
         "0.43135245901639346",
         "0.061133879781420764",
         "1.5665529010238908",
         "0.3795221843003413",
         "2.8542662116040955",
         "1.0443686006825939",
         "6.443003412969284",
         "0.5993174061433447",
         "1978.1324431613136",
         "1.7668146124957322",
         "472.8197336975077",
         "93.75187713310581",
         "47.53344709897611",
         "23.01160409556314",
         "2.592491467576792",
         "16.002047781569967",
         "2.243344709897611",
         "50.63515358361775",
         "6.216040955631399",
         "2007.790443686007",
         "180796.0600682594"
        ],
        [
         "std",
         "845.9624696167082",
         "188730844.64939007",
         "42.638024553802126",
         "23.3653349745034",
         "7880.017759439091",
         "1.4110260835519746",
         "1.1115365600303264",
         "30.24536062937473",
         "20.860285876849307",
         "179.11261057727674",
         "455.5908390911526",
         "169.16847559158177",
         "439.49415280392384",
         "440.61506696179697",
         "391.89088525349194",
         "428.39571500882624",
         "46.3105100344704",
         "505.508887472041",
         "0.5248201879465192",
         "0.2452535662517102",
         "0.5529406116455408",
         "0.5026292533151646",
         "0.8277311419853731",
         "0.2140762443917087",
         "1.572964396334462",
         "0.647920916551218",
         "25.52841125092427",
         "0.7605663649343575",
         "215.04654854103083",
         "126.36156187890577",
         "67.48340013677367",
         "64.13905920864133",
         "25.141331031869438",
         "56.08737022943253",
         "35.597180615097685",
         "566.3442882590892",
         "2.714492425430169",
         "1.3166129226105308",
         "79886.692356665"
        ],
        [
         "min",
         "1.0",
         "526301100.0",
         "20.0",
         "21.0",
         "1300.0",
         "1.0",
         "1.0",
         "1872.0",
         "1950.0",
         "0.0",
         "0.0",
         "0.0",
         "0.0",
         "0.0",
         "334.0",
         "0.0",
         "0.0",
         "334.0",
         "0.0",
         "0.0",
         "0.0",
         "0.0",
         "0.0",
         "0.0",
         "2.0",
         "0.0",
         "1895.0",
         "0.0",
         "0.0",
         "0.0",
         "0.0",
         "0.0",
         "0.0",
         "0.0",
         "0.0",
         "0.0",
         "1.0",
         "2006.0",
         "12789.0"
        ],
        [
         "25%",
         "733.25",
         "528477022.5",
         "20.0",
         "58.0",
         "7440.25",
         "5.0",
         "5.0",
         "1954.0",
         "1965.0",
         "0.0",
         "0.0",
         "0.0",
         "219.0",
         "793.0",
         "876.25",
         "0.0",
         "0.0",
         "1126.0",
         "0.0",
         "0.0",
         "1.0",
         "0.0",
         "2.0",
         "1.0",
         "5.0",
         "0.0",
         "1960.0",
         "1.0",
         "320.0",
         "0.0",
         "0.0",
         "0.0",
         "0.0",
         "0.0",
         "0.0",
         "0.0",
         "4.0",
         "2007.0",
         "129500.0"
        ],
        [
         "50%",
         "1465.5",
         "535453620.0",
         "50.0",
         "68.0",
         "9436.5",
         "6.0",
         "5.0",
         "1973.0",
         "1993.0",
         "0.0",
         "370.0",
         "0.0",
         "466.0",
         "990.0",
         "1084.0",
         "0.0",
         "0.0",
         "1442.0",
         "0.0",
         "0.0",
         "2.0",
         "0.0",
         "3.0",
         "1.0",
         "6.0",
         "1.0",
         "1979.0",
         "2.0",
         "480.0",
         "0.0",
         "27.0",
         "0.0",
         "0.0",
         "0.0",
         "0.0",
         "0.0",
         "6.0",
         "2008.0",
         "160000.0"
        ],
        [
         "75%",
         "2197.75",
         "907181097.5",
         "70.0",
         "80.0",
         "11555.25",
         "7.0",
         "6.0",
         "2001.0",
         "2004.0",
         "164.0",
         "734.0",
         "0.0",
         "802.0",
         "1302.0",
         "1384.0",
         "703.75",
         "0.0",
         "1742.75",
         "1.0",
         "0.0",
         "2.0",
         "1.0",
         "3.0",
         "1.0",
         "7.0",
         "1.0",
         "2002.0",
         "2.0",
         "576.0",
         "168.0",
         "70.0",
         "0.0",
         "0.0",
         "0.0",
         "0.0",
         "0.0",
         "8.0",
         "2009.0",
         "213500.0"
        ],
        [
         "max",
         "2930.0",
         "1007100110.0",
         "190.0",
         "313.0",
         "215245.0",
         "10.0",
         "9.0",
         "2010.0",
         "2010.0",
         "1600.0",
         "5644.0",
         "1526.0",
         "2336.0",
         "6110.0",
         "5095.0",
         "2065.0",
         "1064.0",
         "5642.0",
         "3.0",
         "2.0",
         "4.0",
         "2.0",
         "8.0",
         "3.0",
         "15.0",
         "4.0",
         "2207.0",
         "5.0",
         "1488.0",
         "1424.0",
         "742.0",
         "1012.0",
         "508.0",
         "576.0",
         "800.0",
         "17000.0",
         "12.0",
         "2010.0",
         "755000.0"
        ]
       ],
       "shape": {
        "columns": 39,
        "rows": 8
       }
      },
      "text/html": [
       "<div>\n",
       "<style scoped>\n",
       "    .dataframe tbody tr th:only-of-type {\n",
       "        vertical-align: middle;\n",
       "    }\n",
       "\n",
       "    .dataframe tbody tr th {\n",
       "        vertical-align: top;\n",
       "    }\n",
       "\n",
       "    .dataframe thead th {\n",
       "        text-align: right;\n",
       "    }\n",
       "</style>\n",
       "<table border=\"1\" class=\"dataframe\">\n",
       "  <thead>\n",
       "    <tr style=\"text-align: right;\">\n",
       "      <th></th>\n",
       "      <th>Order</th>\n",
       "      <th>PID</th>\n",
       "      <th>MS SubClass</th>\n",
       "      <th>Lot Frontage</th>\n",
       "      <th>Lot Area</th>\n",
       "      <th>Overall Qual</th>\n",
       "      <th>Overall Cond</th>\n",
       "      <th>Year Built</th>\n",
       "      <th>Year Remod/Add</th>\n",
       "      <th>Mas Vnr Area</th>\n",
       "      <th>...</th>\n",
       "      <th>Wood Deck SF</th>\n",
       "      <th>Open Porch SF</th>\n",
       "      <th>Enclosed Porch</th>\n",
       "      <th>3Ssn Porch</th>\n",
       "      <th>Screen Porch</th>\n",
       "      <th>Pool Area</th>\n",
       "      <th>Misc Val</th>\n",
       "      <th>Mo Sold</th>\n",
       "      <th>Yr Sold</th>\n",
       "      <th>SalePrice</th>\n",
       "    </tr>\n",
       "  </thead>\n",
       "  <tbody>\n",
       "    <tr>\n",
       "      <th>count</th>\n",
       "      <td>2930.00000</td>\n",
       "      <td>2.930000e+03</td>\n",
       "      <td>2930.000000</td>\n",
       "      <td>2440.000000</td>\n",
       "      <td>2930.000000</td>\n",
       "      <td>2930.000000</td>\n",
       "      <td>2930.000000</td>\n",
       "      <td>2930.000000</td>\n",
       "      <td>2930.000000</td>\n",
       "      <td>2907.000000</td>\n",
       "      <td>...</td>\n",
       "      <td>2930.000000</td>\n",
       "      <td>2930.000000</td>\n",
       "      <td>2930.000000</td>\n",
       "      <td>2930.000000</td>\n",
       "      <td>2930.000000</td>\n",
       "      <td>2930.000000</td>\n",
       "      <td>2930.000000</td>\n",
       "      <td>2930.000000</td>\n",
       "      <td>2930.000000</td>\n",
       "      <td>2930.000000</td>\n",
       "    </tr>\n",
       "    <tr>\n",
       "      <th>mean</th>\n",
       "      <td>1465.50000</td>\n",
       "      <td>7.144645e+08</td>\n",
       "      <td>57.387372</td>\n",
       "      <td>69.224590</td>\n",
       "      <td>10147.921843</td>\n",
       "      <td>6.094881</td>\n",
       "      <td>5.563140</td>\n",
       "      <td>1971.356314</td>\n",
       "      <td>1984.266553</td>\n",
       "      <td>101.896801</td>\n",
       "      <td>...</td>\n",
       "      <td>93.751877</td>\n",
       "      <td>47.533447</td>\n",
       "      <td>23.011604</td>\n",
       "      <td>2.592491</td>\n",
       "      <td>16.002048</td>\n",
       "      <td>2.243345</td>\n",
       "      <td>50.635154</td>\n",
       "      <td>6.216041</td>\n",
       "      <td>2007.790444</td>\n",
       "      <td>180796.060068</td>\n",
       "    </tr>\n",
       "    <tr>\n",
       "      <th>std</th>\n",
       "      <td>845.96247</td>\n",
       "      <td>1.887308e+08</td>\n",
       "      <td>42.638025</td>\n",
       "      <td>23.365335</td>\n",
       "      <td>7880.017759</td>\n",
       "      <td>1.411026</td>\n",
       "      <td>1.111537</td>\n",
       "      <td>30.245361</td>\n",
       "      <td>20.860286</td>\n",
       "      <td>179.112611</td>\n",
       "      <td>...</td>\n",
       "      <td>126.361562</td>\n",
       "      <td>67.483400</td>\n",
       "      <td>64.139059</td>\n",
       "      <td>25.141331</td>\n",
       "      <td>56.087370</td>\n",
       "      <td>35.597181</td>\n",
       "      <td>566.344288</td>\n",
       "      <td>2.714492</td>\n",
       "      <td>1.316613</td>\n",
       "      <td>79886.692357</td>\n",
       "    </tr>\n",
       "    <tr>\n",
       "      <th>min</th>\n",
       "      <td>1.00000</td>\n",
       "      <td>5.263011e+08</td>\n",
       "      <td>20.000000</td>\n",
       "      <td>21.000000</td>\n",
       "      <td>1300.000000</td>\n",
       "      <td>1.000000</td>\n",
       "      <td>1.000000</td>\n",
       "      <td>1872.000000</td>\n",
       "      <td>1950.000000</td>\n",
       "      <td>0.000000</td>\n",
       "      <td>...</td>\n",
       "      <td>0.000000</td>\n",
       "      <td>0.000000</td>\n",
       "      <td>0.000000</td>\n",
       "      <td>0.000000</td>\n",
       "      <td>0.000000</td>\n",
       "      <td>0.000000</td>\n",
       "      <td>0.000000</td>\n",
       "      <td>1.000000</td>\n",
       "      <td>2006.000000</td>\n",
       "      <td>12789.000000</td>\n",
       "    </tr>\n",
       "    <tr>\n",
       "      <th>25%</th>\n",
       "      <td>733.25000</td>\n",
       "      <td>5.284770e+08</td>\n",
       "      <td>20.000000</td>\n",
       "      <td>58.000000</td>\n",
       "      <td>7440.250000</td>\n",
       "      <td>5.000000</td>\n",
       "      <td>5.000000</td>\n",
       "      <td>1954.000000</td>\n",
       "      <td>1965.000000</td>\n",
       "      <td>0.000000</td>\n",
       "      <td>...</td>\n",
       "      <td>0.000000</td>\n",
       "      <td>0.000000</td>\n",
       "      <td>0.000000</td>\n",
       "      <td>0.000000</td>\n",
       "      <td>0.000000</td>\n",
       "      <td>0.000000</td>\n",
       "      <td>0.000000</td>\n",
       "      <td>4.000000</td>\n",
       "      <td>2007.000000</td>\n",
       "      <td>129500.000000</td>\n",
       "    </tr>\n",
       "    <tr>\n",
       "      <th>50%</th>\n",
       "      <td>1465.50000</td>\n",
       "      <td>5.354536e+08</td>\n",
       "      <td>50.000000</td>\n",
       "      <td>68.000000</td>\n",
       "      <td>9436.500000</td>\n",
       "      <td>6.000000</td>\n",
       "      <td>5.000000</td>\n",
       "      <td>1973.000000</td>\n",
       "      <td>1993.000000</td>\n",
       "      <td>0.000000</td>\n",
       "      <td>...</td>\n",
       "      <td>0.000000</td>\n",
       "      <td>27.000000</td>\n",
       "      <td>0.000000</td>\n",
       "      <td>0.000000</td>\n",
       "      <td>0.000000</td>\n",
       "      <td>0.000000</td>\n",
       "      <td>0.000000</td>\n",
       "      <td>6.000000</td>\n",
       "      <td>2008.000000</td>\n",
       "      <td>160000.000000</td>\n",
       "    </tr>\n",
       "    <tr>\n",
       "      <th>75%</th>\n",
       "      <td>2197.75000</td>\n",
       "      <td>9.071811e+08</td>\n",
       "      <td>70.000000</td>\n",
       "      <td>80.000000</td>\n",
       "      <td>11555.250000</td>\n",
       "      <td>7.000000</td>\n",
       "      <td>6.000000</td>\n",
       "      <td>2001.000000</td>\n",
       "      <td>2004.000000</td>\n",
       "      <td>164.000000</td>\n",
       "      <td>...</td>\n",
       "      <td>168.000000</td>\n",
       "      <td>70.000000</td>\n",
       "      <td>0.000000</td>\n",
       "      <td>0.000000</td>\n",
       "      <td>0.000000</td>\n",
       "      <td>0.000000</td>\n",
       "      <td>0.000000</td>\n",
       "      <td>8.000000</td>\n",
       "      <td>2009.000000</td>\n",
       "      <td>213500.000000</td>\n",
       "    </tr>\n",
       "    <tr>\n",
       "      <th>max</th>\n",
       "      <td>2930.00000</td>\n",
       "      <td>1.007100e+09</td>\n",
       "      <td>190.000000</td>\n",
       "      <td>313.000000</td>\n",
       "      <td>215245.000000</td>\n",
       "      <td>10.000000</td>\n",
       "      <td>9.000000</td>\n",
       "      <td>2010.000000</td>\n",
       "      <td>2010.000000</td>\n",
       "      <td>1600.000000</td>\n",
       "      <td>...</td>\n",
       "      <td>1424.000000</td>\n",
       "      <td>742.000000</td>\n",
       "      <td>1012.000000</td>\n",
       "      <td>508.000000</td>\n",
       "      <td>576.000000</td>\n",
       "      <td>800.000000</td>\n",
       "      <td>17000.000000</td>\n",
       "      <td>12.000000</td>\n",
       "      <td>2010.000000</td>\n",
       "      <td>755000.000000</td>\n",
       "    </tr>\n",
       "  </tbody>\n",
       "</table>\n",
       "<p>8 rows × 39 columns</p>\n",
       "</div>"
      ],
      "text/plain": [
       "            Order           PID  MS SubClass  Lot Frontage       Lot Area  \\\n",
       "count  2930.00000  2.930000e+03  2930.000000   2440.000000    2930.000000   \n",
       "mean   1465.50000  7.144645e+08    57.387372     69.224590   10147.921843   \n",
       "std     845.96247  1.887308e+08    42.638025     23.365335    7880.017759   \n",
       "min       1.00000  5.263011e+08    20.000000     21.000000    1300.000000   \n",
       "25%     733.25000  5.284770e+08    20.000000     58.000000    7440.250000   \n",
       "50%    1465.50000  5.354536e+08    50.000000     68.000000    9436.500000   \n",
       "75%    2197.75000  9.071811e+08    70.000000     80.000000   11555.250000   \n",
       "max    2930.00000  1.007100e+09   190.000000    313.000000  215245.000000   \n",
       "\n",
       "       Overall Qual  Overall Cond   Year Built  Year Remod/Add  Mas Vnr Area  \\\n",
       "count   2930.000000   2930.000000  2930.000000     2930.000000   2907.000000   \n",
       "mean       6.094881      5.563140  1971.356314     1984.266553    101.896801   \n",
       "std        1.411026      1.111537    30.245361       20.860286    179.112611   \n",
       "min        1.000000      1.000000  1872.000000     1950.000000      0.000000   \n",
       "25%        5.000000      5.000000  1954.000000     1965.000000      0.000000   \n",
       "50%        6.000000      5.000000  1973.000000     1993.000000      0.000000   \n",
       "75%        7.000000      6.000000  2001.000000     2004.000000    164.000000   \n",
       "max       10.000000      9.000000  2010.000000     2010.000000   1600.000000   \n",
       "\n",
       "       ...  Wood Deck SF  Open Porch SF  Enclosed Porch   3Ssn Porch  \\\n",
       "count  ...   2930.000000    2930.000000     2930.000000  2930.000000   \n",
       "mean   ...     93.751877      47.533447       23.011604     2.592491   \n",
       "std    ...    126.361562      67.483400       64.139059    25.141331   \n",
       "min    ...      0.000000       0.000000        0.000000     0.000000   \n",
       "25%    ...      0.000000       0.000000        0.000000     0.000000   \n",
       "50%    ...      0.000000      27.000000        0.000000     0.000000   \n",
       "75%    ...    168.000000      70.000000        0.000000     0.000000   \n",
       "max    ...   1424.000000     742.000000     1012.000000   508.000000   \n",
       "\n",
       "       Screen Porch    Pool Area      Misc Val      Mo Sold      Yr Sold  \\\n",
       "count   2930.000000  2930.000000   2930.000000  2930.000000  2930.000000   \n",
       "mean      16.002048     2.243345     50.635154     6.216041  2007.790444   \n",
       "std       56.087370    35.597181    566.344288     2.714492     1.316613   \n",
       "min        0.000000     0.000000      0.000000     1.000000  2006.000000   \n",
       "25%        0.000000     0.000000      0.000000     4.000000  2007.000000   \n",
       "50%        0.000000     0.000000      0.000000     6.000000  2008.000000   \n",
       "75%        0.000000     0.000000      0.000000     8.000000  2009.000000   \n",
       "max      576.000000   800.000000  17000.000000    12.000000  2010.000000   \n",
       "\n",
       "           SalePrice  \n",
       "count    2930.000000  \n",
       "mean   180796.060068  \n",
       "std     79886.692357  \n",
       "min     12789.000000  \n",
       "25%    129500.000000  \n",
       "50%    160000.000000  \n",
       "75%    213500.000000  \n",
       "max    755000.000000  \n",
       "\n",
       "[8 rows x 39 columns]"
      ]
     },
     "execution_count": 478,
     "metadata": {},
     "output_type": "execute_result"
    }
   ],
   "source": [
    "df.describe()"
   ]
  },
  {
   "cell_type": "markdown",
   "id": "42712077",
   "metadata": {},
   "source": [
    "Since the dataset contains 79 feature columns, I aim to reduce the number of predictors in order to simplify the model. One way to do this is by checking correlations between numeric variables and the target, SalePrice, and then selecting only those variables that show the strongest relationships. This approach narrows down the feature space while still retaining the variables most likely to influence housing prices."
   ]
  },
  {
   "cell_type": "code",
   "execution_count": 479,
   "id": "17bbd3b2",
   "metadata": {},
   "outputs": [
    {
     "name": "stdout",
     "output_type": "stream",
     "text": [
      "Top 10 positive correlations with SalePrice:\n",
      "SalePrice         1.000000\n",
      "Overall Qual      0.799262\n",
      "Gr Liv Area       0.706780\n",
      "Garage Cars       0.647877\n",
      "Garage Area       0.640401\n",
      "Total Bsmt SF     0.632280\n",
      "1st Flr SF        0.621676\n",
      "Year Built        0.558426\n",
      "Full Bath         0.545604\n",
      "Year Remod/Add    0.532974\n",
      "Name: SalePrice, dtype: float64\n",
      "\n",
      "Top 10 negative correlations with SalePrice:\n",
      "Misc Val          -0.015691\n",
      "Yr Sold           -0.030569\n",
      "Order             -0.031408\n",
      "Bsmt Half Bath    -0.035835\n",
      "Low Qual Fin SF   -0.037660\n",
      "MS SubClass       -0.085092\n",
      "Overall Cond      -0.101697\n",
      "Kitchen AbvGr     -0.119814\n",
      "Enclosed Porch    -0.128787\n",
      "PID               -0.246521\n",
      "Name: SalePrice, dtype: float64\n"
     ]
    }
   ],
   "source": [
    "corrs = df.corr(numeric_only=True)[\"SalePrice\"].sort_values(ascending=False)\n",
    "\n",
    "# Show top 10 positively correlated features\n",
    "print(\"Top 10 positive correlations with SalePrice:\")\n",
    "print(corrs.head(10))\n",
    "\n",
    "# Show bottom 10 (negative correlations)\n",
    "print(\"\\nTop 10 negative correlations with SalePrice:\")\n",
    "print(corrs.tail(10))\n"
   ]
  },
  {
   "cell_type": "markdown",
   "id": "e5079f6a",
   "metadata": {},
   "source": [
    "Adding engineered features can help consolidate some of the variables that have high correlations with the target variable, SalePrice. For example, combining basement and floor areas into a single TotalSF feature captures overall living space more directly, while creating TotalBath summarizes bathroom counts into a single, more informative variable. Similarly, AgeAtSale and RemodelAge translate raw year columns into features that better reflect the condition and age of the home at the time of sale. These engineered features reduce redundancy, simplify the model, and make the relationships with the target more interpretable."
   ]
  },
  {
   "cell_type": "code",
   "execution_count": 480,
   "id": "d355f359",
   "metadata": {},
   "outputs": [],
   "source": [
    "df[\"Total SF\"] = df[\"Total Bsmt SF\"] + df[\"1st Flr SF\"] + df[\"2nd Flr SF\"]\n",
    "df[\"Total Bath\"] = df[\"Full Bath\"] + 0.5*df[\"Half Bath\"] + df[\"Bsmt Full Bath\"] + 0.5*df[\"Bsmt Half Bath\"]\n",
    "df[\"Age At Sale\"] = df[\"Yr Sold\"] - df[\"Year Built\"]\n",
    "df[\"Remodel Age\"] = df[\"Yr Sold\"] - df[\"Year Remod/Add\"]"
   ]
  },
  {
   "cell_type": "markdown",
   "id": "2263538c",
   "metadata": {},
   "source": [
    "Next, I will build a new DataFrame that contains only the selected numerical and categorical features along with the target variable. I chose these categorical features:\n",
    " - Neighborhood\n",
    " - BldgType\n",
    " - HouseStyle\n",
    " - SaleCondition\n",
    "  \n",
    "They capture important aspects of location, building type, architectural style, and sale context, all of which are likely to have a meaningful impact on housing prices."
   ]
  },
  {
   "cell_type": "code",
   "execution_count": 481,
   "id": "d04b607c",
   "metadata": {},
   "outputs": [
    {
     "name": "stdout",
     "output_type": "stream",
     "text": [
      "Shape of modeling dataframe: (2930, 15)\n"
     ]
    },
    {
     "data": {
      "application/vnd.microsoft.datawrangler.viewer.v0+json": {
       "columns": [
        {
         "name": "index",
         "rawType": "int64",
         "type": "integer"
        },
        {
         "name": "Overall Qual",
         "rawType": "int64",
         "type": "integer"
        },
        {
         "name": "Gr Liv Area",
         "rawType": "int64",
         "type": "integer"
        },
        {
         "name": "Garage Cars",
         "rawType": "float64",
         "type": "float"
        },
        {
         "name": "Year Built",
         "rawType": "int64",
         "type": "integer"
        },
        {
         "name": "Year Remod/Add",
         "rawType": "int64",
         "type": "integer"
        },
        {
         "name": "Full Bath",
         "rawType": "int64",
         "type": "integer"
        },
        {
         "name": "Total SF",
         "rawType": "float64",
         "type": "float"
        },
        {
         "name": "Total Bath",
         "rawType": "float64",
         "type": "float"
        },
        {
         "name": "Age At Sale",
         "rawType": "int64",
         "type": "integer"
        },
        {
         "name": "Remodel Age",
         "rawType": "int64",
         "type": "integer"
        },
        {
         "name": "Neighborhood",
         "rawType": "object",
         "type": "string"
        },
        {
         "name": "Bldg Type",
         "rawType": "object",
         "type": "string"
        },
        {
         "name": "House Style",
         "rawType": "object",
         "type": "string"
        },
        {
         "name": "Sale Condition",
         "rawType": "object",
         "type": "string"
        },
        {
         "name": "SalePrice",
         "rawType": "int64",
         "type": "integer"
        }
       ],
       "ref": "42fac13c-9758-414a-bce3-bf9b90dfb91f",
       "rows": [
        [
         "0",
         "6",
         "1656",
         "2.0",
         "1960",
         "1960",
         "1",
         "2736.0",
         "2.0",
         "50",
         "50",
         "NAmes",
         "1Fam",
         "1Story",
         "Normal",
         "215000"
        ],
        [
         "1",
         "5",
         "896",
         "1.0",
         "1961",
         "1961",
         "1",
         "1778.0",
         "1.0",
         "49",
         "49",
         "NAmes",
         "1Fam",
         "1Story",
         "Normal",
         "105000"
        ],
        [
         "2",
         "6",
         "1329",
         "1.0",
         "1958",
         "1958",
         "1",
         "2658.0",
         "1.5",
         "52",
         "52",
         "NAmes",
         "1Fam",
         "1Story",
         "Normal",
         "172000"
        ],
        [
         "3",
         "7",
         "2110",
         "2.0",
         "1968",
         "1968",
         "2",
         "4220.0",
         "3.5",
         "42",
         "42",
         "NAmes",
         "1Fam",
         "1Story",
         "Normal",
         "244000"
        ],
        [
         "4",
         "5",
         "1629",
         "2.0",
         "1997",
         "1998",
         "2",
         "2557.0",
         "2.5",
         "13",
         "12",
         "Gilbert",
         "1Fam",
         "2Story",
         "Normal",
         "189900"
        ]
       ],
       "shape": {
        "columns": 15,
        "rows": 5
       }
      },
      "text/html": [
       "<div>\n",
       "<style scoped>\n",
       "    .dataframe tbody tr th:only-of-type {\n",
       "        vertical-align: middle;\n",
       "    }\n",
       "\n",
       "    .dataframe tbody tr th {\n",
       "        vertical-align: top;\n",
       "    }\n",
       "\n",
       "    .dataframe thead th {\n",
       "        text-align: right;\n",
       "    }\n",
       "</style>\n",
       "<table border=\"1\" class=\"dataframe\">\n",
       "  <thead>\n",
       "    <tr style=\"text-align: right;\">\n",
       "      <th></th>\n",
       "      <th>Overall Qual</th>\n",
       "      <th>Gr Liv Area</th>\n",
       "      <th>Garage Cars</th>\n",
       "      <th>Year Built</th>\n",
       "      <th>Year Remod/Add</th>\n",
       "      <th>Full Bath</th>\n",
       "      <th>Total SF</th>\n",
       "      <th>Total Bath</th>\n",
       "      <th>Age At Sale</th>\n",
       "      <th>Remodel Age</th>\n",
       "      <th>Neighborhood</th>\n",
       "      <th>Bldg Type</th>\n",
       "      <th>House Style</th>\n",
       "      <th>Sale Condition</th>\n",
       "      <th>SalePrice</th>\n",
       "    </tr>\n",
       "  </thead>\n",
       "  <tbody>\n",
       "    <tr>\n",
       "      <th>0</th>\n",
       "      <td>6</td>\n",
       "      <td>1656</td>\n",
       "      <td>2.0</td>\n",
       "      <td>1960</td>\n",
       "      <td>1960</td>\n",
       "      <td>1</td>\n",
       "      <td>2736.0</td>\n",
       "      <td>2.0</td>\n",
       "      <td>50</td>\n",
       "      <td>50</td>\n",
       "      <td>NAmes</td>\n",
       "      <td>1Fam</td>\n",
       "      <td>1Story</td>\n",
       "      <td>Normal</td>\n",
       "      <td>215000</td>\n",
       "    </tr>\n",
       "    <tr>\n",
       "      <th>1</th>\n",
       "      <td>5</td>\n",
       "      <td>896</td>\n",
       "      <td>1.0</td>\n",
       "      <td>1961</td>\n",
       "      <td>1961</td>\n",
       "      <td>1</td>\n",
       "      <td>1778.0</td>\n",
       "      <td>1.0</td>\n",
       "      <td>49</td>\n",
       "      <td>49</td>\n",
       "      <td>NAmes</td>\n",
       "      <td>1Fam</td>\n",
       "      <td>1Story</td>\n",
       "      <td>Normal</td>\n",
       "      <td>105000</td>\n",
       "    </tr>\n",
       "    <tr>\n",
       "      <th>2</th>\n",
       "      <td>6</td>\n",
       "      <td>1329</td>\n",
       "      <td>1.0</td>\n",
       "      <td>1958</td>\n",
       "      <td>1958</td>\n",
       "      <td>1</td>\n",
       "      <td>2658.0</td>\n",
       "      <td>1.5</td>\n",
       "      <td>52</td>\n",
       "      <td>52</td>\n",
       "      <td>NAmes</td>\n",
       "      <td>1Fam</td>\n",
       "      <td>1Story</td>\n",
       "      <td>Normal</td>\n",
       "      <td>172000</td>\n",
       "    </tr>\n",
       "    <tr>\n",
       "      <th>3</th>\n",
       "      <td>7</td>\n",
       "      <td>2110</td>\n",
       "      <td>2.0</td>\n",
       "      <td>1968</td>\n",
       "      <td>1968</td>\n",
       "      <td>2</td>\n",
       "      <td>4220.0</td>\n",
       "      <td>3.5</td>\n",
       "      <td>42</td>\n",
       "      <td>42</td>\n",
       "      <td>NAmes</td>\n",
       "      <td>1Fam</td>\n",
       "      <td>1Story</td>\n",
       "      <td>Normal</td>\n",
       "      <td>244000</td>\n",
       "    </tr>\n",
       "    <tr>\n",
       "      <th>4</th>\n",
       "      <td>5</td>\n",
       "      <td>1629</td>\n",
       "      <td>2.0</td>\n",
       "      <td>1997</td>\n",
       "      <td>1998</td>\n",
       "      <td>2</td>\n",
       "      <td>2557.0</td>\n",
       "      <td>2.5</td>\n",
       "      <td>13</td>\n",
       "      <td>12</td>\n",
       "      <td>Gilbert</td>\n",
       "      <td>1Fam</td>\n",
       "      <td>2Story</td>\n",
       "      <td>Normal</td>\n",
       "      <td>189900</td>\n",
       "    </tr>\n",
       "  </tbody>\n",
       "</table>\n",
       "</div>"
      ],
      "text/plain": [
       "   Overall Qual  Gr Liv Area  Garage Cars  Year Built  Year Remod/Add  \\\n",
       "0             6         1656          2.0        1960            1960   \n",
       "1             5          896          1.0        1961            1961   \n",
       "2             6         1329          1.0        1958            1958   \n",
       "3             7         2110          2.0        1968            1968   \n",
       "4             5         1629          2.0        1997            1998   \n",
       "\n",
       "   Full Bath  Total SF  Total Bath  Age At Sale  Remodel Age Neighborhood  \\\n",
       "0          1    2736.0         2.0           50           50        NAmes   \n",
       "1          1    1778.0         1.0           49           49        NAmes   \n",
       "2          1    2658.0         1.5           52           52        NAmes   \n",
       "3          2    4220.0         3.5           42           42        NAmes   \n",
       "4          2    2557.0         2.5           13           12      Gilbert   \n",
       "\n",
       "  Bldg Type House Style Sale Condition  SalePrice  \n",
       "0      1Fam      1Story         Normal     215000  \n",
       "1      1Fam      1Story         Normal     105000  \n",
       "2      1Fam      1Story         Normal     172000  \n",
       "3      1Fam      1Story         Normal     244000  \n",
       "4      1Fam      2Story         Normal     189900  "
      ]
     },
     "execution_count": 481,
     "metadata": {},
     "output_type": "execute_result"
    }
   ],
   "source": [
    "# Target column\n",
    "TARGET = \"SalePrice\"\n",
    "\n",
    "# Numeric features (engineered + selected originals)\n",
    "num_features = [\n",
    "    \"Overall Qual\", \n",
    "    \"Gr Liv Area\", \n",
    "    \"Garage Cars\", \n",
    "    \"Year Built\", \n",
    "    \"Year Remod/Add\", \n",
    "    \"Full Bath\", \n",
    "    \"Total SF\",      # engineered\n",
    "    \"Total Bath\",    # engineered\n",
    "    \"Age At Sale\",    # engineered\n",
    "    \"Remodel Age\"    # engineered\n",
    "]\n",
    "\n",
    "# Categorical features \n",
    "cat_features = [\n",
    "    \"Neighborhood\", \n",
    "    \"Bldg Type\", \n",
    "    \"House Style\", \n",
    "    \"Sale Condition\"\n",
    "]\n",
    "\n",
    "# Build modeling dataframe\n",
    "df_model = df[num_features + cat_features + [TARGET]].copy()\n",
    "\n",
    "print(\"Shape of modeling dataframe:\", df_model.shape)\n",
    "df_model.head()"
   ]
  },
  {
   "cell_type": "markdown",
   "id": "c6cf0e84",
   "metadata": {},
   "source": [
    "## Train/Test Split"
   ]
  },
  {
   "cell_type": "markdown",
   "id": "34164a6b",
   "metadata": {},
   "source": [
    "I used an 80/20 split to hold out unseen data for evaluation. This prevents optimistic estimates of performance that would happen if I evaluated on the training set. By setting aside 20% of the data as a test set, I can assess how well the models generalize to new observations, which provides a more realistic measure of predictive accuracy."
   ]
  },
  {
   "cell_type": "code",
   "execution_count": 482,
   "id": "3937c83a",
   "metadata": {},
   "outputs": [
    {
     "name": "stdout",
     "output_type": "stream",
     "text": [
      "Train size: (2344, 14)\n",
      "Test size: (586, 14)\n"
     ]
    }
   ],
   "source": [
    "# Define target\n",
    "TARGET = \"SalePrice\"\n",
    "\n",
    "# Train/Test split\n",
    "X = df_model.drop(columns=[TARGET])\n",
    "y = df_model[TARGET]\n",
    "\n",
    "X_train, X_test, y_train, y_test = train_test_split(\n",
    "    X, y, test_size=0.2, random_state=RANDOM_STATE\n",
    ")\n",
    "\n",
    "print(\"Train size:\", X_train.shape)\n",
    "print(\"Test size:\", X_test.shape)"
   ]
  },
  {
   "cell_type": "markdown",
   "id": "b5955eea",
   "metadata": {},
   "source": [
    "## Preprocessing"
   ]
  },
  {
   "cell_type": "markdown",
   "id": "4cf8a47f",
   "metadata": {},
   "source": [
    "Numeric features were median-imputed to handle missing values and then standardized so that all variables are on the same scale, which is especially important for distance-based methods like kNN. Categorical features were imputed with the most frequent category and then one-hot encoded, creating binary indicator columns so that the models can interpret categorical variables without assuming any ordinal relationship. The preprocessing pipeline was fit on the training set to avoid data leakage and then applied consistently to both the training and test sets."
   ]
  },
  {
   "cell_type": "code",
   "execution_count": 483,
   "id": "d9b5b4fe",
   "metadata": {},
   "outputs": [
    {
     "name": "stdout",
     "output_type": "stream",
     "text": [
      "Cats: 4 Nums: 10\n",
      "Processed shapes -> train: (2344, 57)  test: (586, 57)\n",
      "Data types: float64, float64\n"
     ]
    }
   ],
   "source": [
    "# 1) Identify column types from the TRAIN set only to avoid leakage\n",
    "cat_cols = [c for c in X_train.columns if X_train[c].dtype == \"object\"]\n",
    "num_cols = [c for c in X_train.columns if c not in cat_cols]\n",
    "\n",
    "# 2) Define minimal preprocessors\n",
    "num_pre = Pipeline([\n",
    "    (\"imputer\", SimpleImputer(strategy=\"median\")),\n",
    "    (\"scaler\", StandardScaler())\n",
    "])\n",
    "\n",
    "cat_pre = Pipeline([\n",
    "    (\"imputer\", SimpleImputer(strategy=\"most_frequent\")),\n",
    "    (\"onehot\", OneHotEncoder(handle_unknown=\"ignore\"))\n",
    "])\n",
    "\n",
    "# 3) Column-wise preprocessor\n",
    "preprocessor = ColumnTransformer([\n",
    "    (\"num\", num_pre, num_cols),\n",
    "    (\"cat\", cat_pre, cat_cols)\n",
    "])\n",
    "\n",
    "# 4) Fit on TRAIN, transform TRAIN/TEST\n",
    "X_train_proc = preprocessor.fit_transform(X_train)\n",
    "X_test_proc  = preprocessor.transform(X_test)\n",
    "\n",
    "# Summary of preprocessing (quick sanity check of shapes)\n",
    "print(\"Cats:\", len(cat_cols), \"Nums:\", len(num_cols))\n",
    "print(\"Processed shapes -> train:\", X_train_proc.shape, \" test:\", X_test_proc.shape)\n",
    "print(f\"Data types: {X_train_proc.dtype}, {X_test_proc.dtype}\")"
   ]
  },
  {
   "cell_type": "markdown",
   "id": "4bea1087",
   "metadata": {},
   "source": [
    "### Why Convert Data to `float32` for Neural Networks\n",
    "\n",
    "Neural networks perform large numbers of matrix multiplications during training. TensorFlow, like many deep learning frameworks, is optimized for 32-bit floating point precision because it offers the best balance between numerical accuracy and computational efficiency.\n",
    "\n",
    "Converting all the feature and target arrays to `float32` ensures:\n",
    "- Training runs faster and uses less memory compared to 64-bit floats\n",
    "- Operations remain consistent across all layers and optimizers\n"
   ]
  },
  {
   "cell_type": "code",
   "execution_count": 484,
   "id": "8ee0aa52",
   "metadata": {},
   "outputs": [
    {
     "name": "stdout",
     "output_type": "stream",
     "text": [
      "Converted for TensorFlow: (2344, 57) (586, 57) (2344,) (586,)\n",
      "Data types: float32, float32, float32, float32\n"
     ]
    }
   ],
   "source": [
    "X_train_nn = X_train_proc.astype(\"float32\")\n",
    "X_test_nn  = X_test_proc.astype(\"float32\")\n",
    "y_train_nn = y_train.astype(\"float32\")\n",
    "y_test_nn  = y_test.astype(\"float32\")\n",
    "\n",
    "print(\"Converted for TensorFlow:\", X_train_nn.shape, X_test_nn.shape, y_train_nn.shape, y_test_nn.shape)\n",
    "print(f\"Data types: {X_train_nn.dtype}, {X_test_nn.dtype}, {y_train_nn.dtype}, {y_test_nn.dtype}\")"
   ]
  },
  {
   "cell_type": "markdown",
   "id": "082dc062",
   "metadata": {},
   "source": [
    "## Fit Simple Models"
   ]
  },
  {
   "cell_type": "markdown",
   "id": "77456d78",
   "metadata": {},
   "source": [
    "At this stage, I fit two simple models to the processed training data. Linear Regression serves as a straightforward baseline that assumes a linear relationship between features and housing prices. In contrast, k-nearest neighbors (kNN) is a more flexible, non-parametric method that predicts a house’s price based on the average prices of its closest neighbors in the feature space. Starting with a small value of k allows me to begin exploring how model complexity affects performance, and it sets up the later analysis of the bias–variance tradeoff."
   ]
  },
  {
   "cell_type": "code",
   "execution_count": 485,
   "id": "bf012e99",
   "metadata": {},
   "outputs": [],
   "source": [
    "# --- Linear Regression ---\n",
    "\n",
    "lr = LinearRegression()\n",
    "lr.fit(X_train_proc, y_train)\n",
    "pred_lr = lr.predict(X_test_proc)\n",
    "\n",
    "# --- kNN (pick a starting k, e.g. 5) ---\n",
    "\n",
    "knn = KNeighborsRegressor(n_neighbors=5)\n",
    "knn.fit(X_train_proc, y_train)\n",
    "pred_knn = knn.predict(X_test_proc)"
   ]
  },
  {
   "cell_type": "markdown",
   "id": "b4f62cd9",
   "metadata": {},
   "source": [
    "## Evaluate on Test Set"
   ]
  },
  {
   "cell_type": "markdown",
   "id": "d67a2456",
   "metadata": {},
   "source": [
    "I chose to compare a simple, interpretable model (Linear Regression) against a more flexible, non-parametric method (kNN). This lets me see the trade-off between bias and variance on the same dataset. To evaluate performance, I report RMSE (root mean squared error) and MAE (mean absolute error) on the test set, which measure prediction accuracy in dollars, as well as R² on the training set, which shows how much variance each model explains. Linear Regression provides a stable baseline with higher bias, while kNN with a small value of k can capture more complex patterns at the cost of greater variance."
   ]
  },
  {
   "cell_type": "code",
   "execution_count": 486,
   "id": "822aaea1",
   "metadata": {},
   "outputs": [
    {
     "name": "stdout",
     "output_type": "stream",
     "text": [
      "Linear Regression:\n",
      "  RMSE     : 28152.38318565568\n",
      "  MAE      : 19183.798816023158\n",
      "  R² Train : 0.8475481368061859\n",
      "\n",
      "kNN (k=5):\n",
      "  RMSE     : 27025.094487340702\n",
      "  MAE      : 18276.190443686006\n",
      "  R² Train : 0.9108211128997526\n"
     ]
    }
   ],
   "source": [
    "def rmse(y_true, y_pred):\n",
    "    return root_mean_squared_error(y_true, y_pred)\n",
    "\n",
    "print(\"Linear Regression:\")\n",
    "print(\"  RMSE     :\", rmse(y_test, pred_lr))\n",
    "print(\"  MAE      :\", mean_absolute_error(y_test, pred_lr))\n",
    "print(\"  R² Train :\", lr.score(X_train_proc, y_train))\n",
    "\n",
    "print(\"\\nkNN (k=5):\")\n",
    "print(\"  RMSE     :\", rmse(y_test, pred_knn))\n",
    "print(\"  MAE      :\", mean_absolute_error(y_test, pred_knn))\n",
    "print(\"  R² Train :\", knn.score(X_train_proc, y_train))\n"
   ]
  },
  {
   "cell_type": "markdown",
   "id": "91d5516f",
   "metadata": {},
   "source": [
    "On the held-out test set, kNN (k=5) achieved slightly lower error than Linear Regression, with an RMSE of about $27,025 compared to $28,152 for Linear Regression. MAE values tell a similar story, with kNN closer to $18,276 versus $19,184 for Linear Regression. The higher training R² for kNN (0.91 vs. 0.85) shows that it fits the training data more closely, though this also means it has more potential to overfit.\n",
    "\n",
    "The gap between RMSE and MAE provides additional context about the errors. Since RMSE penalizes larger errors more strongly than MAE, a much larger RMSE compared to MAE would indicate that the models made a few extreme mistakes. In this case, RMSE is only about 1.5 times MAE for both models, which suggests that while there are some moderately large errors, there are not extreme outliers driving performance.\n",
    "\n",
    "Overall, kNN provides a modest improvement in accuracy while Linear Regression remains a simpler, more interpretable baseline."
   ]
  },
  {
   "cell_type": "markdown",
   "id": "9d714388",
   "metadata": {},
   "source": [
    "## Bias-Variance Tradeoff"
   ]
  },
  {
   "cell_type": "markdown",
   "id": "f4015345",
   "metadata": {},
   "source": [
    "By plotting RMSE for different k values, I can show the textbook bias–variance tradeoff. Low k heavily overfits, large k underfits, and the middle range balances both."
   ]
  },
  {
   "cell_type": "code",
   "execution_count": 487,
   "id": "12b24ae4",
   "metadata": {},
   "outputs": [
    {
     "data": {
      "image/png": "[encoded data removed]",
      "text/plain": [
       "<Figure size 800x500 with 1 Axes>"
      ]
     },
     "metadata": {},
     "output_type": "display_data"
    }
   ],
   "source": [
    "k_values = list(range(1, 41, 2))\n",
    "\n",
    "train_rmse = []\n",
    "test_rmse = []\n",
    "\n",
    "for k in k_values:\n",
    "    knn = KNeighborsRegressor(n_neighbors=k)\n",
    "    knn.fit(X_train_proc, y_train)\n",
    "\n",
    "    # Evaluate on train + test\n",
    "    pred_train = knn.predict(X_train_proc)\n",
    "    pred_test = knn.predict(X_test_proc)\n",
    "\n",
    "    train_rmse.append(root_mean_squared_error(y_train, pred_train))\n",
    "    test_rmse.append(root_mean_squared_error(y_test, pred_test))\n",
    "\n",
    "# Plot\n",
    "plt.figure(figsize=(8,5))\n",
    "plt.plot(k_values, train_rmse, marker=\"o\", label=\"Train RMSE\")\n",
    "plt.plot(k_values, test_rmse, marker=\"o\", label=\"Test RMSE\")\n",
    "plt.xlabel(\"k (neighbors)\")\n",
    "plt.ylabel(\"RMSE\")\n",
    "plt.title(\"Bias–Variance Tradeoff in kNN\")\n",
    "plt.legend()\n",
    "plt.show()"
   ]
  },
  {
   "cell_type": "markdown",
   "id": "92436a4a",
   "metadata": {},
   "source": [
    "### Plot Results\n",
    "\n",
    "This plot of train vs. test RMSE across different values of k shows bias-variance tradeoff:\n",
    "\n",
    "  - low k (k=1-3):\n",
    "    - Training RMSE is nearly zero showing that the model is essentially memorizing the data set.\n",
    "    - Test RMSE is much higher because the model doesn't generalie well\n",
    "    - The High Variance shows that the model is too flexible and is overfitting.\n",
    "  - Intermediate k (k=5-10):\n",
    "    - Training and Test RMSEs converge showing where variance and bias are balanced.\n",
    "    - THe model is flexible enough to capture the training set structure, but stable enough to generalize to the test set.\n",
    "  - Large k (k=20+):\n",
    "    - Both Train and Test sets increase RMSE as k increases.\n",
    "    - This is high bias or underfitting because the model is too simple to capture important variations in the data.\n",
    "\n",
    "This confirms the classic bias–variance tradeoff: lower k gives low bias/high variance, while larger k gives higher bias/lower variance."
   ]
  },
  {
   "cell_type": "markdown",
   "id": "b6e67c9f",
   "metadata": {},
   "source": [
    "## Cross Validation"
   ]
  },
  {
   "cell_type": "markdown",
   "id": "55c0da34",
   "metadata": {},
   "source": [
    "To avoid results depending on a single train/test split, I used k-fold cross-validation. This gives a more reliable estimate of performance and confirmed that kNN consistently beat Linear Regression."
   ]
  },
  {
   "cell_type": "code",
   "execution_count": 488,
   "id": "092be9b4",
   "metadata": {},
   "outputs": [
    {
     "name": "stdout",
     "output_type": "stream",
     "text": [
      "Linear Regression CV RMSE: 32459.1836914817 ± 3301.6423832365394\n",
      "kNN (k=3) CV RMSE: 30161.30142593062 ± 2825.5038260342085\n",
      "kNN (k=5) CV RMSE: 30286.730489168905 ± 2582.597518350053\n",
      "kNN (k=7) CV RMSE: 30550.13513241497 ± 2713.407876520476\n",
      "kNN (k=10) CV RMSE: 30296.71245109063 ± 2641.984240307529\n",
      "kNN (k=15) CV RMSE: 30586.16137939254 ± 3026.6865107012973\n"
     ]
    }
   ],
   "source": [
    "cv = KFold(n_splits=5, shuffle=True, random_state=RANDOM_STATE)\n",
    "\n",
    "# scorer for RMSE\n",
    "rmse_scorer = make_scorer(root_mean_squared_error, greater_is_better=False)\n",
    "\n",
    "# --- Linear Regression ---\n",
    "lr = LinearRegression()\n",
    "scores_lin = cross_val_score(lr, X_train_proc, y_train,\n",
    "                             scoring=rmse_scorer, cv=cv)\n",
    "print(\"Linear Regression CV RMSE:\", -scores_lin.mean(), \"±\", scores_lin.std())\n",
    "\n",
    "# --- kNN  ---\n",
    "for k in [3, 5, 7, 10, 15]:\n",
    "    knn = KNeighborsRegressor(n_neighbors=k)\n",
    "    scores_knn = cross_val_score(knn, X_train_proc, y_train,\n",
    "                                 scoring=rmse_scorer, cv=cv)\n",
    "    print(f\"kNN (k={k}) CV RMSE:\", -scores_knn.mean(), \"±\", scores_knn.std())"
   ]
  },
  {
   "cell_type": "markdown",
   "id": "85cc8f95",
   "metadata": {},
   "source": [
    "### CV Results\n",
    "\n",
    "Cross-validation shows kNN consistently outperforms Linear Regression across folds, confirming that the improvement is not due to random variation in a single train/test split.\n",
    "\n",
    "- kNN (k=3-15) are all better RMSE values that the Linear Regression model.\n",
    "- THe best performance of kNN is at 3, but the standard deviation is lower near our sweet spot (k=5-10) from the bias-variance plot."
   ]
  },
  {
   "cell_type": "markdown",
   "id": "3e7dc2a2",
   "metadata": {},
   "source": [
    "## Neural Network"
   ]
  },
  {
   "cell_type": "markdown",
   "id": "1532c11a",
   "metadata": {},
   "source": [
    "We train a neural network (ReLU hidden layers, linear output) with fixed epochs and batch size."
   ]
  },
  {
   "cell_type": "markdown",
   "id": "f0653e09",
   "metadata": {},
   "source": [
    "### Seeds\n",
    "\n",
    "To make sure our results are repeatable we will set seeds for Python, NumPy, and TensorFlow."
   ]
  },
  {
   "cell_type": "code",
   "execution_count": 489,
   "id": "7fd131b6",
   "metadata": {},
   "outputs": [],
   "source": [
    "random.seed(RANDOM_STATE)     # general Python RNG\n",
    "np.random.seed(RANDOM_STATE)    # NumPy RNG\n",
    "tf.random.set_seed(RANDOM_STATE)  # TensorFlow RNG"
   ]
  },
  {
   "cell_type": "markdown",
   "id": "53b0ae2b",
   "metadata": {},
   "source": [
    "### Build regression network\n",
    "\n",
    "This cell defines the architecture of a neural network for regression using TensorFlow’s Keras API. The model consists of an input layer that matches the number of features in our preprocessed dataset, followed by two hidden layers (128 and 64 neurons) using the ReLU activation function. The output layer has a single neuron with a linear activation, which is appropriate for predicting continuous numeric values such as house prices. We intentionally keep the architecture small and straightforward,so it acts as a clean, interpretable baseline to compare against linear regression and k-nearest neighbors."
   ]
  },
  {
   "cell_type": "code",
   "execution_count": 490,
   "id": "0d639e07",
   "metadata": {},
   "outputs": [],
   "source": [
    "# Use the preprocessed arrays for TensorFlow input layer\n",
    "n_features = X_train_nn.shape[1]\n",
    "\n",
    "\n",
    "mynet = tf.keras.Sequential([\n",
    "    layers.Input(shape=(n_features,), name='input_vector'), # Input with n features\n",
    "    layers.Dense(128, activation='relu', name='hidden1'),   # Hidden layer with 128 neurons\n",
    "    layers.Dense(64, activation='relu', name='hidden2'),    # Hidden layer with 64 neurons\n",
    "    layers.Dense(1, activation='linear', name='output')     # Output layer for regression\n",
    "], name='mynet')"
   ]
  },
  {
   "cell_type": "markdown",
   "id": "3e794e86",
   "metadata": {},
   "source": [
    "### Compiling the model\n",
    "\n",
    "Once the architecture is defined, I compiled the model to specify how it will learn. I chose to use the Adam optimizer, which adapts the learning rate dynamically and generally converges quickly. The mean squared error (MSE) was picked as the loss function because it directly penalizes large prediction errors, which aligns with regression objectives. For tracking performance, I chose to include Root Mean Squared Error (RMSE) and Mean Absolute Error (MAE) as metrics. These metrics allow direct comparison with our previous models from Project 1, providing a consistent evaluation framework across all methods."
   ]
  },
  {
   "cell_type": "code",
   "execution_count": 491,
   "id": "f490c376",
   "metadata": {},
   "outputs": [
    {
     "data": {
      "text/html": [
       "<pre style=\"white-space:pre;overflow-x:auto;line-height:normal;font-family:Menlo,'DejaVu Sans Mono',consolas,'Courier New',monospace\"><span style=\"font-weight: bold\">Model: \"mynet\"</span>\n",
       "</pre>\n"
      ],
      "text/plain": [
       "\u001b[1mModel: \"mynet\"\u001b[0m\n"
      ]
     },
     "metadata": {},
     "output_type": "display_data"
    },
    {
     "data": {
      "text/html": [
       "<pre style=\"white-space:pre;overflow-x:auto;line-height:normal;font-family:Menlo,'DejaVu Sans Mono',consolas,'Courier New',monospace\">┏━━━━━━━━━━━━━━━━━━━━━━━━━━━━━━━━━┳━━━━━━━━━━━━━━━━━━━━━━━━┳━━━━━━━━━━━━━━━┓\n",
       "┃<span style=\"font-weight: bold\"> Layer (type)                    </span>┃<span style=\"font-weight: bold\"> Output Shape           </span>┃<span style=\"font-weight: bold\">       Param # </span>┃\n",
       "┡━━━━━━━━━━━━━━━━━━━━━━━━━━━━━━━━━╇━━━━━━━━━━━━━━━━━━━━━━━━╇━━━━━━━━━━━━━━━┩\n",
       "│ hidden1 (<span style=\"color: #0087ff; text-decoration-color: #0087ff\">Dense</span>)                 │ (<span style=\"color: #00d7ff; text-decoration-color: #00d7ff\">None</span>, <span style=\"color: #00af00; text-decoration-color: #00af00\">128</span>)            │         <span style=\"color: #00af00; text-decoration-color: #00af00\">7,424</span> │\n",
       "├─────────────────────────────────┼────────────────────────┼───────────────┤\n",
       "│ hidden2 (<span style=\"color: #0087ff; text-decoration-color: #0087ff\">Dense</span>)                 │ (<span style=\"color: #00d7ff; text-decoration-color: #00d7ff\">None</span>, <span style=\"color: #00af00; text-decoration-color: #00af00\">64</span>)             │         <span style=\"color: #00af00; text-decoration-color: #00af00\">8,256</span> │\n",
       "├─────────────────────────────────┼────────────────────────┼───────────────┤\n",
       "│ output (<span style=\"color: #0087ff; text-decoration-color: #0087ff\">Dense</span>)                  │ (<span style=\"color: #00d7ff; text-decoration-color: #00d7ff\">None</span>, <span style=\"color: #00af00; text-decoration-color: #00af00\">1</span>)              │            <span style=\"color: #00af00; text-decoration-color: #00af00\">65</span> │\n",
       "└─────────────────────────────────┴────────────────────────┴───────────────┘\n",
       "</pre>\n"
      ],
      "text/plain": [
       "┏━━━━━━━━━━━━━━━━━━━━━━━━━━━━━━━━━┳━━━━━━━━━━━━━━━━━━━━━━━━┳━━━━━━━━━━━━━━━┓\n",
       "┃\u001b[1m \u001b[0m\u001b[1mLayer (type)                   \u001b[0m\u001b[1m \u001b[0m┃\u001b[1m \u001b[0m\u001b[1mOutput Shape          \u001b[0m\u001b[1m \u001b[0m┃\u001b[1m \u001b[0m\u001b[1m      Param #\u001b[0m\u001b[1m \u001b[0m┃\n",
       "┡━━━━━━━━━━━━━━━━━━━━━━━━━━━━━━━━━╇━━━━━━━━━━━━━━━━━━━━━━━━╇━━━━━━━━━━━━━━━┩\n",
       "│ hidden1 (\u001b[38;5;33mDense\u001b[0m)                 │ (\u001b[38;5;45mNone\u001b[0m, \u001b[38;5;34m128\u001b[0m)            │         \u001b[38;5;34m7,424\u001b[0m │\n",
       "├─────────────────────────────────┼────────────────────────┼───────────────┤\n",
       "│ hidden2 (\u001b[38;5;33mDense\u001b[0m)                 │ (\u001b[38;5;45mNone\u001b[0m, \u001b[38;5;34m64\u001b[0m)             │         \u001b[38;5;34m8,256\u001b[0m │\n",
       "├─────────────────────────────────┼────────────────────────┼───────────────┤\n",
       "│ output (\u001b[38;5;33mDense\u001b[0m)                  │ (\u001b[38;5;45mNone\u001b[0m, \u001b[38;5;34m1\u001b[0m)              │            \u001b[38;5;34m65\u001b[0m │\n",
       "└─────────────────────────────────┴────────────────────────┴───────────────┘\n"
      ]
     },
     "metadata": {},
     "output_type": "display_data"
    },
    {
     "data": {
      "text/html": [
       "<pre style=\"white-space:pre;overflow-x:auto;line-height:normal;font-family:Menlo,'DejaVu Sans Mono',consolas,'Courier New',monospace\"><span style=\"font-weight: bold\"> Total params: </span><span style=\"color: #00af00; text-decoration-color: #00af00\">15,745</span> (61.50 KB)\n",
       "</pre>\n"
      ],
      "text/plain": [
       "\u001b[1m Total params: \u001b[0m\u001b[38;5;34m15,745\u001b[0m (61.50 KB)\n"
      ]
     },
     "metadata": {},
     "output_type": "display_data"
    },
    {
     "data": {
      "text/html": [
       "<pre style=\"white-space:pre;overflow-x:auto;line-height:normal;font-family:Menlo,'DejaVu Sans Mono',consolas,'Courier New',monospace\"><span style=\"font-weight: bold\"> Trainable params: </span><span style=\"color: #00af00; text-decoration-color: #00af00\">15,745</span> (61.50 KB)\n",
       "</pre>\n"
      ],
      "text/plain": [
       "\u001b[1m Trainable params: \u001b[0m\u001b[38;5;34m15,745\u001b[0m (61.50 KB)\n"
      ]
     },
     "metadata": {},
     "output_type": "display_data"
    },
    {
     "data": {
      "text/html": [
       "<pre style=\"white-space:pre;overflow-x:auto;line-height:normal;font-family:Menlo,'DejaVu Sans Mono',consolas,'Courier New',monospace\"><span style=\"font-weight: bold\"> Non-trainable params: </span><span style=\"color: #00af00; text-decoration-color: #00af00\">0</span> (0.00 B)\n",
       "</pre>\n"
      ],
      "text/plain": [
       "\u001b[1m Non-trainable params: \u001b[0m\u001b[38;5;34m0\u001b[0m (0.00 B)\n"
      ]
     },
     "metadata": {},
     "output_type": "display_data"
    }
   ],
   "source": [
    "mynet.compile(\n",
    "    optimizer='adam',\n",
    "    loss='mse',\n",
    "    metrics=[tf.keras.metrics.RootMeanSquaredError(name='rmse'), 'mae']\n",
    ")\n",
    "\n",
    "mynet.summary()"
   ]
  },
  {
   "cell_type": "markdown",
   "id": "9ca85890",
   "metadata": {},
   "source": [
    "### Training the model\n",
    "\n",
    "In this cell, I trained the network using the preprocessed training data (X_train_nn, y_train_nn). I reserve 20% of the training set as validation data so we can monitor the model’s generalization during training without touching the true test set. The model is trained for 150 epochs using a batch size of 64, meaning the weights update after every 64 samples. We intentionally exclude early stopping or other callbacks to keep training behavior predictable and controlled. By fixing these hyperparameters, we can focus on understanding how a basic neural network performs relative to our simpler baseline models."
   ]
  },
  {
   "cell_type": "code",
   "execution_count": 492,
   "id": "47c7bdd5",
   "metadata": {},
   "outputs": [
    {
     "name": "stdout",
     "output_type": "stream",
     "text": [
      "Trained for 200 epochs.\n"
     ]
    }
   ],
   "source": [
    "history = mynet.fit(\n",
    "    X_train_nn, y_train_nn,\n",
    "    validation_split=0.20,   \n",
    "    epochs=200,              \n",
    "    batch_size=64,\n",
    "    verbose=0\n",
    ")\n",
    "print(f\"Trained for {len(history.history['loss'])} epochs.\")"
   ]
  },
  {
   "cell_type": "markdown",
   "id": "95bf3d56",
   "metadata": {},
   "source": [
    "### Visualizing the model\n",
    "\n",
    "I created two diagnostic plots. The first plot shows training and validation RMSE over epochs, allowing us to visually inspect learning behavior and detect possible overfitting if the validation curve diverges from the training curve. The second is a prediction parity plot, where we can compare predicted sale prices to actual sale prices on the test set. Points lying close to the 45-degree line indicate accurate predictions. These plots provide intuitive, visual confirmation of the model’s performance and help communicate results effectively in the report."
   ]
  },
  {
   "cell_type": "code",
   "execution_count": 493,
   "id": "c9fa069a",
   "metadata": {},
   "outputs": [
    {
     "data": {
      "image/png": "[encoded data removed]",
      "text/plain": [
       "<Figure size 640x480 with 1 Axes>"
      ]
     },
     "metadata": {},
     "output_type": "display_data"
    }
   ],
   "source": [
    "# Training curves\n",
    "plt.figure()\n",
    "plt.plot(history.history[\"rmse\"], label=\"train_rmse\")\n",
    "plt.plot(history.history[\"val_rmse\"], label=\"val_rmse\")\n",
    "plt.title(\"NN Training (RMSE)\")\n",
    "plt.xlabel(\"Epoch\"); plt.ylabel(\"RMSE\"); plt.legend()\n",
    "plt.show()"
   ]
  },
  {
   "cell_type": "markdown",
   "id": "1aed9f48",
   "metadata": {},
   "source": [
    "#### NN Training (RMSE) Plot"
   ]
  },
  {
   "cell_type": "markdown",
   "id": "de436b31",
   "metadata": {},
   "source": [
    "\n",
    "\n",
    "This plot shows how the model’s training and validation RMSE changed over 200 epochs.\n",
    "At the start, both errors are very high (around $200,000), which is expected since the model’s weights are randomly initialized. As training progresses, RMSE drops steeply during the first 40 epochs, meaning the model quickly learns the dominant patterns in the data. After about epoch 40, both curves flatten and gradually decrease in RMSE.\n",
    "\n",
    "The fact that the training and validation lines follow each other closely indicates the model is not overfitting, it performs consistently on unseen validation data. The smooth convergence suggests stable learning, and the final RMSE plateau reflects that additional epochs yield minimal improvement. Overall, this plot confirms that the chosen architecture and learning rate led to efficient and well-balanced training.\n"
   ]
  },
  {
   "cell_type": "code",
   "execution_count": 494,
   "id": "10fff875",
   "metadata": {},
   "outputs": [
    {
     "data": {
      "image/png": "[encoded data removed]",
      "text/plain": [
       "<Figure size 640x480 with 1 Axes>"
      ]
     },
     "metadata": {},
     "output_type": "display_data"
    }
   ],
   "source": [
    "# Parity plot\n",
    "plt.figure()\n",
    "plt.scatter(y_test_nn, pred_nn, s=16, alpha=0.7)\n",
    "lims = [min(y_test_nn.min(), pred_nn.min()), max(y_test_nn.max(), pred_nn.max())]\n",
    "plt.plot(lims, lims)\n",
    "plt.title(\"Prediction Parity (Test Set)\")\n",
    "plt.xlabel(\"Actual SalePrice\"); plt.ylabel(\"Predicted SalePrice (NN)\")\n",
    "plt.show()"
   ]
  },
  {
   "cell_type": "markdown",
   "id": "54d204d9",
   "metadata": {},
   "source": [
    "#### Prediction Parity (Test Set) Plot"
   ]
  },
  {
   "cell_type": "markdown",
   "id": "1dc60b04",
   "metadata": {},
   "source": [
    "This scatter plot compares actual vs. predicted SalePrice values on the test set. Each point represents one home in the Ames dataset. The solid diagonal line represents perfect predictions (where predicted = actual).\n",
    "\n",
    "Most points cluster tightly around the diagonal, especially in the $100k–$350k range, showing that the model’s predictions are accurate for the majority of homes. A few points deviate above or below the line—these correspond to under- or over-predicted sale prices, often for unusually expensive or inexpensive homes.\n",
    "\n",
    "Overall, the dense alignment along the diagonal indicates strong predictive performance and that the neural network effectively learned the underlying relationship between housing features and sale price. The small scatter at higher price ranges makes sense as luxury homes are less common and therefore harder to predict precisely."
   ]
  },
  {
   "cell_type": "markdown",
   "id": "02bd2868",
   "metadata": {},
   "source": [
    "### Evaluating the model\n",
    "\n",
    "Finally, I evaluate the model using the held-out test set. Then I compute RMSE and MAE using scikit-learn’s metrics functions. These values measure average prediction error and how well the model explains variance in the data. Reporting the same metrics for all three models, linear regression, kNN, and the neural network, ensures a fair, one-to-one comparison of accuracy and generalization."
   ]
  },
  {
   "cell_type": "code",
   "execution_count": 495,
   "id": "2f010a96",
   "metadata": {},
   "outputs": [
    {
     "name": "stdout",
     "output_type": "stream",
     "text": [
      "Neural Net -> RMSE: 26940.1738 | MAE: 18451.0586\n"
     ]
    }
   ],
   "source": [
    "# Predict on training data\n",
    "\n",
    "pred_nn = mynet.predict(X_test_nn, verbose=0).ravel()\n",
    "\n",
    "nn_rmse = root_mean_squared_error(y_test_nn, pred_nn)\n",
    "nn_mae  = mean_absolute_error(y_test_nn, pred_nn)\n",
    "\n",
    "print(f\"Neural Net -> RMSE: {nn_rmse:.4f} | MAE: {nn_mae:.4f}\")"
   ]
  },
  {
   "cell_type": "markdown",
   "id": "16b35e76",
   "metadata": {},
   "source": [
    "The neural network model achieved a RMSE of $26,940, and a MAE of $18,451.\n",
    "The relatively low RMSE and MAE values show that the network predicts sale prices with reasonable accuracy, typically within about $18,500 of the actual value.\n",
    "Overall, the neural network effectively captures relationships in the data and produces stable, reliable performance on unseen samples."
   ]
  },
  {
   "cell_type": "markdown",
   "id": "8a4b6f01",
   "metadata": {},
   "source": [
    "## Conclusion"
   ]
  },
  {
   "cell_type": "markdown",
   "id": "8f476f29",
   "metadata": {},
   "source": [
    "### Model Performance Comparison\n",
    "\n",
    "| Model               | RMSE ($)   | MAE ($)   | Notes |\n",
    "|----------------------|------------|-----------|--------|\n",
    "| **Linear Regression** | 28,152 | 19,184 | Simple, interpretable baseline; assumes linear relationships between features and price. |\n",
    "| **kNN (k = 5)**       | 27,025 | 18,276 | Slightly lower error than Linear Regression; captures local nonlinear patterns but may overfit small regions. |\n",
    "| **Neural Network**    | 26,940 | 18,451 | Lowest overall error; captures complex feature interactions with good generalization. |"
   ]
  },
  {
   "cell_type": "markdown",
   "id": "1f2262b7",
   "metadata": {},
   "source": [
    "This project extended the analysis of housing price prediction on the Ames dataset by adding a neural network (NN) model alongside Linear Regression and k-Nearest Neighbors (kNN).\n",
    "Results showed that:\n",
    "\n",
    "  *\tThe **Neural Network** achieved the best overall performance, with an RMSE of about $26,940, an MAE of $18,451. These results indicate minimal overfitting, suggesting that the NN effectively captured relationships between features and sale price.\n",
    "  *\t**kNN** continued to perform well, especially around k = 5, showing improved accuracy over Linear Regression but slightly below the neural network.\n",
    "  * **Linear Regression** provided a reliable and interpretable baseline, though its assumption of linear relationships limited its ability to model complex interactions present in the data.\n",
    "\n",
    "Overall, this project demonstrates how increasing model flexibility can lead to measurable improvements in predictive performance.\n",
    "While Linear Regression remains valuable for interpretation and transparency, and kNN offers simplicity with strong local fitting, the Neural Network provides the most accurate and generalizable results for this dataset.\n",
    "Future work could explore tuning the NN’s architecture, adding regularization, or implementing cross-validation to further confirm the model’s robustness."
   ]
  },
  {
   "cell_type": "markdown",
   "id": "0b9f1257",
   "metadata": {},
   "source": [
    "### References\n",
    "\n",
    "- GeeksforGeeks. “What Is Adam Optimizer?” GeeksforGeeks, 22 Oct. 2020, www.geeksforgeeks.org/deep-learning/adam-optimizer/.\n",
    "- “Mixed Precision | TensorFlow Core.” TensorFlow, www.tensorflow.org/guide/mixed_precision.\n",
    "- “Keras Documentation: The Functional API.” Keras.io, keras.io/guides/functional_api/.  "
   ]
  }
 ],
 "metadata": {
  "kernelspec": {
   "display_name": "DAT402",
   "language": "python",
   "name": "python3"
  },
  "language_info": {
   "codemirror_mode": {
    "name": "ipython",
    "version": 3
   },
   "file_extension": ".py",
   "mimetype": "text/x-python",
   "name": "python",
   "nbconvert_exporter": "python",
   "pygments_lexer": "ipython3",
   "version": "3.11.13"
  }
 },
 "nbformat": 4,
 "nbformat_minor": 5
}
